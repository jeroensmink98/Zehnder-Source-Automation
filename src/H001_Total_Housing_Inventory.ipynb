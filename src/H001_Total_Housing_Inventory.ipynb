{
 "cells": [
  {
   "cell_type": "code",
   "execution_count": 1,
   "metadata": {},
   "outputs": [],
   "source": [
    "# Import modules\n",
    "from logger import setup_custom_logger\n",
    "import sys\n",
    "import pandas as pd    \n",
    "import cbsodata\n",
    "import datetime"
   ]
  },
  {
   "cell_type": "code",
   "execution_count": 2,
   "metadata": {},
   "outputs": [
    {
     "name": "stdout",
     "output_type": "stream",
     "text": [
      "2021-03-18 13:42:03 INFO     H001_Total_Housing_Inventory starting\n"
     ]
    },
    {
     "name": "stderr",
     "output_type": "stream",
     "text": [
      "INFO:H001_Total_Housing_Inventory:starting\n"
     ]
    }
   ],
   "source": [
    "# Setup of logger\n",
    "try:\n",
    "    logger = setup_custom_logger(\"H001_Total_Housing_Inventory\")\n",
    "    logger.info('starting')\n",
    "except:\n",
    "    logger.exception('logger could not be loaded')\n",
    "    raise\n"
   ]
  },
  {
   "cell_type": "code",
   "execution_count": 3,
   "metadata": {},
   "outputs": [
    {
     "name": "stdout",
     "output_type": "stream",
     "text": [
      "2021-03-18 13:42:04 INFO     H001_Total_Housing_Inventory datetime loaded\n"
     ]
    },
    {
     "name": "stderr",
     "output_type": "stream",
     "text": [
      "INFO:H001_Total_Housing_Inventory:datetime loaded\n"
     ]
    }
   ],
   "source": [
    "try:\n",
    "    # Get current date information\n",
    "    now = datetime.datetime.now()\n",
    "    \n",
    "    logger.info('datetime loaded')\n",
    "    yearMin = now.year-4\n",
    "    currentYear = now.year-1\n",
    "    \n",
    "    # Values you can load\n",
    "    # now.year\n",
    "    # now.month\n",
    "    # now.day\n",
    "    # now.hour\n",
    "    # now.minute\n",
    "except:\n",
    "    logger.exception('datetime could not be loaded')\n",
    "    logger.info('set yearmin to a default value')\n",
    "    # Set default values for fallback\n",
    "    yearMin = 2010\n",
    "    yearMax = 2030\n",
    "    raise"
   ]
  },
  {
   "cell_type": "code",
   "execution_count": 4,
   "metadata": {},
   "outputs": [],
   "source": [
    "# Dataset 82900NED\n",
    "dataset_id = '82900NED'\n",
    "\n",
    "# Table definitions\n",
    "\n",
    "# StatusVanBewoning: T001235 = Totaal \n",
    "# StatusVanBewoning: A028725 = Bewoonde wonningen\n",
    "# StatusVanBewoning: A028726 = Niet bewoonde wonningen\n",
    "# RegioS: NL01 = Nederland\n",
    "# TotaleWoningvoorraad_1 = Totaal(huur/koop)\n",
    "# Koopwoningen_2 = totaal koopwoningen\n",
    "# TotaalHuurwoningen_3 = totaal huurwoningen\n",
    "# EigendomWoningcorporatie_4 = Eigendom woningcorperatie\n",
    "# EigendomOverigeVerhuurders_5 = Eigendom overige verhuurders\n",
    "# EigendomOnbekend_6 = Eigendom onbekend"
   ]
  },
  {
   "cell_type": "code",
   "execution_count": 17,
   "metadata": {},
   "outputs": [
    {
     "name": "stdout",
     "output_type": "stream",
     "text": [
      "2021-03-18 13:44:11 INFO     H001_Total_Housing_Inventory Retrieve data from dataset 82900NED\n"
     ]
    },
    {
     "name": "stderr",
     "output_type": "stream",
     "text": [
      "INFO:H001_Total_Housing_Inventory:Retrieve data from dataset 82900NED\n"
     ]
    }
   ],
   "source": [
    "try:\n",
    "    logger.info(f'Retrieve data from dataset {dataset_id}')\n",
    "    data = pd.DataFrame(cbsodata.get_data(\n",
    "    f'{dataset_id}',\n",
    "    filters=f\"RegioS eq 'NL01  ' and substring(Perioden,0,4) ge '{yearMin}'\",\n",
    "    ))\n",
    "except:\n",
    "    logger.exception('error loading data from CBS Statline')\n",
    "    raise"
   ]
  },
  {
   "cell_type": "code",
   "execution_count": 18,
   "metadata": {},
   "outputs": [
    {
     "data": {
      "text/html": [
       "<div>\n",
       "<style scoped>\n",
       "    .dataframe tbody tr th:only-of-type {\n",
       "        vertical-align: middle;\n",
       "    }\n",
       "\n",
       "    .dataframe tbody tr th {\n",
       "        vertical-align: top;\n",
       "    }\n",
       "\n",
       "    .dataframe thead th {\n",
       "        text-align: right;\n",
       "    }\n",
       "</style>\n",
       "<table border=\"1\" class=\"dataframe\">\n",
       "  <thead>\n",
       "    <tr style=\"text-align: right;\">\n",
       "      <th></th>\n",
       "      <th>ID</th>\n",
       "      <th>StatusVanBewoning</th>\n",
       "      <th>RegioS</th>\n",
       "      <th>Perioden</th>\n",
       "      <th>TotaleWoningvoorraad_1</th>\n",
       "      <th>Koopwoningen_2</th>\n",
       "      <th>TotaalHuurwoningen_3</th>\n",
       "      <th>EigendomWoningcorporatie_4</th>\n",
       "      <th>EigendomOverigeVerhuurders_5</th>\n",
       "      <th>EigendomOnbekend_6</th>\n",
       "    </tr>\n",
       "  </thead>\n",
       "  <tbody>\n",
       "    <tr>\n",
       "      <th>0</th>\n",
       "      <td>5</td>\n",
       "      <td>Totaal</td>\n",
       "      <td>Nederland</td>\n",
       "      <td>2017</td>\n",
       "      <td>7686178</td>\n",
       "      <td>4321868</td>\n",
       "      <td>3283957</td>\n",
       "      <td>2273731</td>\n",
       "      <td>1010226</td>\n",
       "      <td>80353</td>\n",
       "    </tr>\n",
       "    <tr>\n",
       "      <th>1</th>\n",
       "      <td>6</td>\n",
       "      <td>Totaal</td>\n",
       "      <td>Nederland</td>\n",
       "      <td>2018</td>\n",
       "      <td>7740984</td>\n",
       "      <td>4386769</td>\n",
       "      <td>3275965</td>\n",
       "      <td>2268383</td>\n",
       "      <td>1007582</td>\n",
       "      <td>78250</td>\n",
       "    </tr>\n",
       "    <tr>\n",
       "      <th>2</th>\n",
       "      <td>7</td>\n",
       "      <td>Totaal</td>\n",
       "      <td>Nederland</td>\n",
       "      <td>2019</td>\n",
       "      <td>7814912</td>\n",
       "      <td>4487894</td>\n",
       "      <td>3299639</td>\n",
       "      <td>2295414</td>\n",
       "      <td>1004225</td>\n",
       "      <td>27379</td>\n",
       "    </tr>\n",
       "    <tr>\n",
       "      <th>3</th>\n",
       "      <td>8</td>\n",
       "      <td>Totaal</td>\n",
       "      <td>Nederland</td>\n",
       "      <td>2020</td>\n",
       "      <td>7891786</td>\n",
       "      <td>4517921</td>\n",
       "      <td>3342018</td>\n",
       "      <td>2294219</td>\n",
       "      <td>1047799</td>\n",
       "      <td>31847</td>\n",
       "    </tr>\n",
       "    <tr>\n",
       "      <th>4</th>\n",
       "      <td>4442</td>\n",
       "      <td>Bewoonde woningen</td>\n",
       "      <td>Nederland</td>\n",
       "      <td>2017</td>\n",
       "      <td>7331144</td>\n",
       "      <td>4189012</td>\n",
       "      <td>3102723</td>\n",
       "      <td>2211578</td>\n",
       "      <td>891145</td>\n",
       "      <td>39409</td>\n",
       "    </tr>\n",
       "    <tr>\n",
       "      <th>5</th>\n",
       "      <td>4443</td>\n",
       "      <td>Bewoonde woningen</td>\n",
       "      <td>Nederland</td>\n",
       "      <td>2018</td>\n",
       "      <td>7398054</td>\n",
       "      <td>4260602</td>\n",
       "      <td>3095275</td>\n",
       "      <td>2207510</td>\n",
       "      <td>887765</td>\n",
       "      <td>42177</td>\n",
       "    </tr>\n",
       "    <tr>\n",
       "      <th>6</th>\n",
       "      <td>4444</td>\n",
       "      <td>Bewoonde woningen</td>\n",
       "      <td>Nederland</td>\n",
       "      <td>2019</td>\n",
       "      <td>7469356</td>\n",
       "      <td>4348316</td>\n",
       "      <td>3102561</td>\n",
       "      <td>2225000</td>\n",
       "      <td>877561</td>\n",
       "      <td>18479</td>\n",
       "    </tr>\n",
       "    <tr>\n",
       "      <th>7</th>\n",
       "      <td>4445</td>\n",
       "      <td>Bewoonde woningen</td>\n",
       "      <td>Nederland</td>\n",
       "      <td>2020</td>\n",
       "      <td>7547587</td>\n",
       "      <td>4380084</td>\n",
       "      <td>3145536</td>\n",
       "      <td>2224790</td>\n",
       "      <td>920746</td>\n",
       "      <td>21967</td>\n",
       "    </tr>\n",
       "    <tr>\n",
       "      <th>8</th>\n",
       "      <td>8879</td>\n",
       "      <td>Niet bewoonde woningen</td>\n",
       "      <td>Nederland</td>\n",
       "      <td>2017</td>\n",
       "      <td>355034</td>\n",
       "      <td>132856</td>\n",
       "      <td>181234</td>\n",
       "      <td>62153</td>\n",
       "      <td>119081</td>\n",
       "      <td>40944</td>\n",
       "    </tr>\n",
       "    <tr>\n",
       "      <th>9</th>\n",
       "      <td>8880</td>\n",
       "      <td>Niet bewoonde woningen</td>\n",
       "      <td>Nederland</td>\n",
       "      <td>2018</td>\n",
       "      <td>342930</td>\n",
       "      <td>126167</td>\n",
       "      <td>180690</td>\n",
       "      <td>60873</td>\n",
       "      <td>119817</td>\n",
       "      <td>36073</td>\n",
       "    </tr>\n",
       "    <tr>\n",
       "      <th>10</th>\n",
       "      <td>8881</td>\n",
       "      <td>Niet bewoonde woningen</td>\n",
       "      <td>Nederland</td>\n",
       "      <td>2019</td>\n",
       "      <td>345556</td>\n",
       "      <td>139578</td>\n",
       "      <td>197078</td>\n",
       "      <td>70414</td>\n",
       "      <td>126664</td>\n",
       "      <td>8900</td>\n",
       "    </tr>\n",
       "    <tr>\n",
       "      <th>11</th>\n",
       "      <td>8882</td>\n",
       "      <td>Niet bewoonde woningen</td>\n",
       "      <td>Nederland</td>\n",
       "      <td>2020</td>\n",
       "      <td>344199</td>\n",
       "      <td>137837</td>\n",
       "      <td>196482</td>\n",
       "      <td>69429</td>\n",
       "      <td>127053</td>\n",
       "      <td>9880</td>\n",
       "    </tr>\n",
       "  </tbody>\n",
       "</table>\n",
       "</div>"
      ],
      "text/plain": [
       "      ID       StatusVanBewoning     RegioS Perioden  TotaleWoningvoorraad_1  \\\n",
       "0      5                  Totaal  Nederland     2017                 7686178   \n",
       "1      6                  Totaal  Nederland     2018                 7740984   \n",
       "2      7                  Totaal  Nederland     2019                 7814912   \n",
       "3      8                  Totaal  Nederland     2020                 7891786   \n",
       "4   4442       Bewoonde woningen  Nederland     2017                 7331144   \n",
       "5   4443       Bewoonde woningen  Nederland     2018                 7398054   \n",
       "6   4444       Bewoonde woningen  Nederland     2019                 7469356   \n",
       "7   4445       Bewoonde woningen  Nederland     2020                 7547587   \n",
       "8   8879  Niet bewoonde woningen  Nederland     2017                  355034   \n",
       "9   8880  Niet bewoonde woningen  Nederland     2018                  342930   \n",
       "10  8881  Niet bewoonde woningen  Nederland     2019                  345556   \n",
       "11  8882  Niet bewoonde woningen  Nederland     2020                  344199   \n",
       "\n",
       "    Koopwoningen_2  TotaalHuurwoningen_3  EigendomWoningcorporatie_4  \\\n",
       "0          4321868               3283957                     2273731   \n",
       "1          4386769               3275965                     2268383   \n",
       "2          4487894               3299639                     2295414   \n",
       "3          4517921               3342018                     2294219   \n",
       "4          4189012               3102723                     2211578   \n",
       "5          4260602               3095275                     2207510   \n",
       "6          4348316               3102561                     2225000   \n",
       "7          4380084               3145536                     2224790   \n",
       "8           132856                181234                       62153   \n",
       "9           126167                180690                       60873   \n",
       "10          139578                197078                       70414   \n",
       "11          137837                196482                       69429   \n",
       "\n",
       "    EigendomOverigeVerhuurders_5  EigendomOnbekend_6  \n",
       "0                        1010226               80353  \n",
       "1                        1007582               78250  \n",
       "2                        1004225               27379  \n",
       "3                        1047799               31847  \n",
       "4                         891145               39409  \n",
       "5                         887765               42177  \n",
       "6                         877561               18479  \n",
       "7                         920746               21967  \n",
       "8                         119081               40944  \n",
       "9                         119817               36073  \n",
       "10                        126664                8900  \n",
       "11                        127053                9880  "
      ]
     },
     "execution_count": 18,
     "metadata": {},
     "output_type": "execute_result"
    }
   ],
   "source": [
    "data"
   ]
  },
  {
   "cell_type": "code",
   "execution_count": 3,
   "metadata": {},
   "outputs": [],
   "source": [
    "# convert column \"a\" of a DataFrame\n",
    "df[\"Perioden\"] = pd.to_numeric(df[\"Perioden\"])\n",
    "df = df[(df.RegioS == \"Nederland\")]"
   ]
  },
  {
   "cell_type": "code",
   "execution_count": 4,
   "metadata": {},
   "outputs": [],
   "source": [
    "# We parse our dataFrame to an Excel file that we can then load into Qlik Sense\n",
    "df.to_excel(\"output.xlsx\",\n",
    "             sheet_name='Sheet_name_1') "
   ]
  },
  {
   "cell_type": "markdown",
   "metadata": {},
   "source": [
    "<h1><b>Data evaluation"
   ]
  },
  {
   "cell_type": "markdown",
   "metadata": {},
   "source": [
    "<h3><b>Modeling, Evaluation, Deployment in qliksense"
   ]
  }
 ],
 "metadata": {
  "kernelspec": {
   "display_name": "Python 3",
   "language": "python",
   "name": "python3"
  },
  "language_info": {
   "codemirror_mode": {
    "name": "ipython",
    "version": 3
   },
   "file_extension": ".py",
   "mimetype": "text/x-python",
   "name": "python",
   "nbconvert_exporter": "python",
   "pygments_lexer": "ipython3",
   "version": "3.8.8"
  }
 },
 "nbformat": 4,
 "nbformat_minor": 4
}
