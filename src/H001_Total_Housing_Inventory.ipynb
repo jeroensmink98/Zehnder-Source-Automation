{
 "cells": [
  {
   "cell_type": "code",
   "execution_count": 1,
   "metadata": {},
   "outputs": [],
   "source": [
    "# Import modules\n",
    "from logger import setup_custom_logger\n",
    "from file_writer import file_writer\n",
    "import sys\n",
    "import pandas as pd    \n",
    "import cbsodata\n",
    "import datetime"
   ]
  },
  {
   "cell_type": "code",
   "execution_count": 2,
   "metadata": {},
   "outputs": [
    {
     "name": "stdout",
     "output_type": "stream",
     "text": [
      "2021-04-21 09:15:39 INFO     H001_Total_Housing_Inventory starting\n"
     ]
    },
    {
     "name": "stderr",
     "output_type": "stream",
     "text": [
      "INFO:H001_Total_Housing_Inventory:starting\n"
     ]
    }
   ],
   "source": [
    "# Setup of logger\n",
    "try:\n",
    "    logger = setup_custom_logger(\"H001_Total_Housing_Inventory\")\n",
    "    logger.info('starting')\n",
    "except:\n",
    "    logger.exception('logger could not be loaded')\n",
    "    raise"
   ]
  },
  {
   "cell_type": "code",
   "execution_count": 3,
   "metadata": {},
   "outputs": [
    {
     "name": "stdout",
     "output_type": "stream",
     "text": [
      "2021-04-21 09:15:39 INFO     H001_Total_Housing_Inventory datetime loaded\n"
     ]
    },
    {
     "name": "stderr",
     "output_type": "stream",
     "text": [
      "INFO:H001_Total_Housing_Inventory:datetime loaded\n"
     ]
    }
   ],
   "source": [
    "try:\n",
    "    # Get current date information\n",
    "    now = datetime.datetime.now()\n",
    "    \n",
    "    logger.info('datetime loaded')\n",
    "    yearMin = now.year-6\n",
    "    currentYear = now.year-1\n",
    "    \n",
    "    # Values you can load\n",
    "    # now.year\n",
    "    # now.month\n",
    "    # now.day\n",
    "    # now.hour\n",
    "    # now.minute\n",
    "except:\n",
    "    logger.exception('datetime could not be loaded')\n",
    "    logger.info('set yearmin to a default value')\n",
    "    # Set default values for fallback\n",
    "    yearMin = 2010\n",
    "    yearMax = 2030\n",
    "    raise"
   ]
  },
  {
   "cell_type": "code",
   "execution_count": 4,
   "metadata": {},
   "outputs": [],
   "source": [
    "# Dataset 82900NED\n",
    "dataset_id = '82900NED'\n",
    "\n",
    "# Table definitions\n",
    "\n",
    "# StatusVanBewoning: T001235 = Totaal \n",
    "# StatusVanBewoning: A028725 = Bewoonde wonningen\n",
    "# StatusVanBewoning: A028726 = Niet bewoonde wonningen\n",
    "# RegioS: NL01 = Nederland\n",
    "# TotaleWoningvoorraad_1 = Totaal(huur/koop)\n",
    "# Koopwoningen_2 = totaal koopwoningen\n",
    "# TotaalHuurwoningen_3 = totaal huurwoningen\n",
    "# EigendomWoningcorporatie_4 = Eigendom woningcorperatie\n",
    "# EigendomOverigeVerhuurders_5 = Eigendom overige verhuurders\n",
    "# EigendomOnbekend_6 = Eigendom onbekend"
   ]
  },
  {
   "cell_type": "code",
   "execution_count": 5,
   "metadata": {},
   "outputs": [
    {
     "name": "stdout",
     "output_type": "stream",
     "text": [
      "2021-04-21 09:15:39 INFO     H001_Total_Housing_Inventory Retrieve data from dataset 82900NED\n"
     ]
    },
    {
     "name": "stderr",
     "output_type": "stream",
     "text": [
      "INFO:H001_Total_Housing_Inventory:Retrieve data from dataset 82900NED\n"
     ]
    }
   ],
   "source": [
    "try:\n",
    "    logger.info(f'Retrieve data from dataset {dataset_id}')\n",
    "    df = pd.DataFrame(cbsodata.get_data(\n",
    "    f'{dataset_id}',\n",
    "    filters=f\"substring(Perioden,0,4) ge '{yearMin}'\",\n",
    "    ))\n",
    "except:\n",
    "    logger.exception('error loading data from CBS Statline')\n",
    "    raise"
   ]
  },
  {
   "cell_type": "code",
   "execution_count": 6,
   "metadata": {},
   "outputs": [],
   "source": [
    "#removing total field and renaming\n",
    "try:\n",
    "     df = df.drop(columns=['TotaleWoningvoorraad_1'])\n",
    "     df = df.rename(columns={\n",
    "        \"Koopwoningen_2\": \"Totaal_koopwoningen\",\n",
    "        \"TotaalHuurwoningen_3\": \"Totaal_huurwoningen\",\n",
    "        \"EigendomWoningcorporatie_4\": \"Eigendom_woningcorperatie\",\n",
    "        \"EigendomOverigeVerhuurders_5\": \"Eigendom_overige_verhuurders\",\n",
    "        \"EigendomOnbekend_6\": \"Eigendom_onbekend\"\n",
    "    })\n",
    "    \n",
    "except:\n",
    "    logger.exeption('Columns could not be renamed/removed')\n",
    "    raise"
   ]
  },
  {
   "cell_type": "code",
   "execution_count": 7,
   "metadata": {},
   "outputs": [],
   "source": [
    "# Date formatting and quarter format \n",
    "try:\n",
    "    df['Perioden'] = pd.to_datetime(df[\"Perioden\"]).dt.date\n",
    "except:\n",
    "    logger.exception('Columns could not be formatted to different date')\n",
    "    raise"
   ]
  },
  {
   "cell_type": "code",
   "execution_count": 8,
   "metadata": {},
   "outputs": [],
   "source": [
    "#Removing totaal status van bewoning because procesdata\n",
    "try:\n",
    "    df = df[df.StatusVanBewoning != 'Totaal']\n",
    "except:\n",
    "    logger.exception('Columns could not be formatted to different date')\n",
    "    raise"
   ]
  },
  {
   "cell_type": "code",
   "execution_count": 9,
   "metadata": {},
   "outputs": [
    {
     "name": "stdout",
     "output_type": "stream",
     "text": [
      "2021-04-21 09:15:40 INFO     H001_Total_Housing_Inventory Date loading ended\n"
     ]
    },
    {
     "name": "stderr",
     "output_type": "stream",
     "text": [
      "INFO:H001_Total_Housing_Inventory:Date loading ended\n"
     ]
    }
   ],
   "source": [
    "# Export dataFrame to Excel file\n",
    "try:\n",
    "    df.to_csv(\"output/H001_Total_Housing_Inventory.csv\")\n",
    "    file_writer(df, \"H001_Total_Housing_Inventory\")\n",
    "    logger.info('Date loading ended')\n",
    "except:\n",
    "    logger.exception('dataFrame could not be exported to output folder')"
   ]
  }
 ],
 "metadata": {
  "kernelspec": {
   "display_name": "Python 3",
   "language": "python",
   "name": "python3"
  },
  "language_info": {
   "codemirror_mode": {
    "name": "ipython",
    "version": 3
   },
   "file_extension": ".py",
   "mimetype": "text/x-python",
   "name": "python",
   "nbconvert_exporter": "python",
   "pygments_lexer": "ipython3",
   "version": "3.8.8"
  }
 },
 "nbformat": 4,
 "nbformat_minor": 4
}
