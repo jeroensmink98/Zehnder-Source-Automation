{
 "cells": [
  {
   "cell_type": "code",
   "execution_count": null,
   "id": "helpful-venice",
   "metadata": {},
   "outputs": [],
   "source": [
    "#Import Modules\n",
    "import pandas as pd\n",
    "import requests\n",
    "import cbsodata"
   ]
  },
  {
   "cell_type": "code",
   "execution_count": null,
   "id": "numeric-alarm",
   "metadata": {},
   "outputs": [],
   "source": [
    "# Set configuration of Pandas\n"
   ]
  },
  {
   "cell_type": "code",
   "execution_count": null,
   "id": "vocal-jacob",
   "metadata": {},
   "outputs": [],
   "source": [
    "# Download data from dataset \n",
    "data = pd.DataFrame(cbsodata.get_data('83671NED'))"
   ]
  },
  {
   "cell_type": "code",
   "execution_count": null,
   "id": "billion-reaction",
   "metadata": {},
   "outputs": [],
   "source": [
    "# Select only the values where the \"Eigendom\" is not equal to Totaal\n",
    "KoopAndHuurWoningen = data.loc[data['Eigendom'] != \"Totaal\"]"
   ]
  },
  {
   "cell_type": "code",
   "execution_count": null,
   "id": "limiting-gross",
   "metadata": {},
   "outputs": [],
   "source": [
    "# We only want the total numbers so filter out all values where the \"Opdrachtgever\" is not Totaal opdrachtgevers\n",
    "TotaalOpdrachtGevers = KoopAndHuurWoningen.loc[KoopAndHuurWoningen['Opdrachtgever'] == \"Totaal opdrachtgevers\"]"
   ]
  },
  {
   "cell_type": "code",
   "execution_count": null,
   "id": "confused-hampshire",
   "metadata": {},
   "outputs": [],
   "source": [
    "# Check how many Huurwoningen\n",
    "Huurwoningen = TotaalOpdrachtGevers.loc[TotaalOpdrachtGevers['Eigendom'] == \"Huurwoningen\"]"
   ]
  },
  {
   "cell_type": "code",
   "execution_count": null,
   "id": "shaped-guyana",
   "metadata": {},
   "outputs": [],
   "source": [
    "Huurwoningen"
   ]
  },
  {
   "cell_type": "code",
   "execution_count": null,
   "id": "inside-frame",
   "metadata": {},
   "outputs": [],
   "source": [
    "# Check how many KoopWoningen\n",
    "Koopwoningen = TotaalOpdrachtGevers.loc[TotaalOpdrachtGevers['Eigendom'] == \"Koopwoningen\"]"
   ]
  },
  {
   "cell_type": "code",
   "execution_count": null,
   "id": "binding-heading",
   "metadata": {},
   "outputs": [],
   "source": [
    "Koopwoningen"
   ]
  },
  {
   "cell_type": "code",
   "execution_count": null,
   "id": "dated-active",
   "metadata": {},
   "outputs": [],
   "source": [
    "# Rename the columns accordingly\n"
   ]
  },
  {
   "cell_type": "code",
   "execution_count": null,
   "id": "obvious-sudan",
   "metadata": {},
   "outputs": [],
   "source": []
  },
  {
   "cell_type": "code",
   "execution_count": null,
   "id": "measured-lender",
   "metadata": {},
   "outputs": [],
   "source": []
  },
  {
   "cell_type": "code",
   "execution_count": 33,
   "id": "protecting-forth",
   "metadata": {},
   "outputs": [],
   "source": [
    "# Better way to filter the data\n",
    "# Create the dataframe but pass filters as argument for the API call\n",
    "# Opdrachtgever: T001209 = Totaal Opdrachtgevers\n",
    "# Eigendom: A028867 = Huurwoning\n",
    "# Eigendom:A028868 = Koopwoning\n",
    "data = pd.DataFrame(cbsodata.get_data('83671NED' , filters=\"Perioden gt '2012' and Opdrachtgever eq 'T001209' and Eigendom eq 'A028867'\", select=['RegioS','Perioden','Opdrachtgever','Eigendom', 'Woningen_2']))"
   ]
  },
  {
   "cell_type": "code",
   "execution_count": 34,
   "id": "geological-torture",
   "metadata": {},
   "outputs": [],
   "source": [
    "# Rename columns\n",
    "data = data.rename(columns={\"Woningen_2\": \"Hoeveelheid\"})\n"
   ]
  },
  {
   "cell_type": "code",
   "execution_count": 35,
   "id": "american-translation",
   "metadata": {},
   "outputs": [
    {
     "data": {
      "text/html": [
       "<div>\n",
       "<style scoped>\n",
       "    .dataframe tbody tr th:only-of-type {\n",
       "        vertical-align: middle;\n",
       "    }\n",
       "\n",
       "    .dataframe tbody tr th {\n",
       "        vertical-align: top;\n",
       "    }\n",
       "\n",
       "    .dataframe thead th {\n",
       "        text-align: right;\n",
       "    }\n",
       "</style>\n",
       "<table border=\"1\" class=\"dataframe\">\n",
       "  <thead>\n",
       "    <tr style=\"text-align: right;\">\n",
       "      <th></th>\n",
       "      <th>RegioS</th>\n",
       "      <th>Perioden</th>\n",
       "      <th>Opdrachtgever</th>\n",
       "      <th>Eigendom</th>\n",
       "      <th>Hoeveelheid</th>\n",
       "    </tr>\n",
       "  </thead>\n",
       "  <tbody>\n",
       "    <tr>\n",
       "      <th>0</th>\n",
       "      <td>Aa en Hunze</td>\n",
       "      <td>2012 1e kwartaal</td>\n",
       "      <td>Totaal opdrachtgevers</td>\n",
       "      <td>Huurwoningen</td>\n",
       "      <td>0.0</td>\n",
       "    </tr>\n",
       "    <tr>\n",
       "      <th>1</th>\n",
       "      <td>Aa en Hunze</td>\n",
       "      <td>2012 2e kwartaal</td>\n",
       "      <td>Totaal opdrachtgevers</td>\n",
       "      <td>Huurwoningen</td>\n",
       "      <td>0.0</td>\n",
       "    </tr>\n",
       "    <tr>\n",
       "      <th>2</th>\n",
       "      <td>Aa en Hunze</td>\n",
       "      <td>2012 3e kwartaal</td>\n",
       "      <td>Totaal opdrachtgevers</td>\n",
       "      <td>Huurwoningen</td>\n",
       "      <td>0.0</td>\n",
       "    </tr>\n",
       "    <tr>\n",
       "      <th>3</th>\n",
       "      <td>Aa en Hunze</td>\n",
       "      <td>2012 4e kwartaal</td>\n",
       "      <td>Totaal opdrachtgevers</td>\n",
       "      <td>Huurwoningen</td>\n",
       "      <td>0.0</td>\n",
       "    </tr>\n",
       "    <tr>\n",
       "      <th>4</th>\n",
       "      <td>Aa en Hunze</td>\n",
       "      <td>2013 1e kwartaal</td>\n",
       "      <td>Totaal opdrachtgevers</td>\n",
       "      <td>Huurwoningen</td>\n",
       "      <td>0.0</td>\n",
       "    </tr>\n",
       "    <tr>\n",
       "      <th>...</th>\n",
       "      <td>...</td>\n",
       "      <td>...</td>\n",
       "      <td>...</td>\n",
       "      <td>...</td>\n",
       "      <td>...</td>\n",
       "    </tr>\n",
       "    <tr>\n",
       "      <th>15691</th>\n",
       "      <td>Zwolle</td>\n",
       "      <td>2019 4e kwartaal</td>\n",
       "      <td>Totaal opdrachtgevers</td>\n",
       "      <td>Huurwoningen</td>\n",
       "      <td>164.0</td>\n",
       "    </tr>\n",
       "    <tr>\n",
       "      <th>15692</th>\n",
       "      <td>Zwolle</td>\n",
       "      <td>2020 1e kwartaal</td>\n",
       "      <td>Totaal opdrachtgevers</td>\n",
       "      <td>Huurwoningen</td>\n",
       "      <td>33.0</td>\n",
       "    </tr>\n",
       "    <tr>\n",
       "      <th>15693</th>\n",
       "      <td>Zwolle</td>\n",
       "      <td>2020 2e kwartaal</td>\n",
       "      <td>Totaal opdrachtgevers</td>\n",
       "      <td>Huurwoningen</td>\n",
       "      <td>92.0</td>\n",
       "    </tr>\n",
       "    <tr>\n",
       "      <th>15694</th>\n",
       "      <td>Zwolle</td>\n",
       "      <td>2020 3e kwartaal</td>\n",
       "      <td>Totaal opdrachtgevers</td>\n",
       "      <td>Huurwoningen</td>\n",
       "      <td>36.0</td>\n",
       "    </tr>\n",
       "    <tr>\n",
       "      <th>15695</th>\n",
       "      <td>Zwolle</td>\n",
       "      <td>2020 4e kwartaal</td>\n",
       "      <td>Totaal opdrachtgevers</td>\n",
       "      <td>Huurwoningen</td>\n",
       "      <td>67.0</td>\n",
       "    </tr>\n",
       "  </tbody>\n",
       "</table>\n",
       "<p>15696 rows × 5 columns</p>\n",
       "</div>"
      ],
      "text/plain": [
       "            RegioS          Perioden          Opdrachtgever      Eigendom  \\\n",
       "0      Aa en Hunze  2012 1e kwartaal  Totaal opdrachtgevers  Huurwoningen   \n",
       "1      Aa en Hunze  2012 2e kwartaal  Totaal opdrachtgevers  Huurwoningen   \n",
       "2      Aa en Hunze  2012 3e kwartaal  Totaal opdrachtgevers  Huurwoningen   \n",
       "3      Aa en Hunze  2012 4e kwartaal  Totaal opdrachtgevers  Huurwoningen   \n",
       "4      Aa en Hunze  2013 1e kwartaal  Totaal opdrachtgevers  Huurwoningen   \n",
       "...            ...               ...                    ...           ...   \n",
       "15691       Zwolle  2019 4e kwartaal  Totaal opdrachtgevers  Huurwoningen   \n",
       "15692       Zwolle  2020 1e kwartaal  Totaal opdrachtgevers  Huurwoningen   \n",
       "15693       Zwolle  2020 2e kwartaal  Totaal opdrachtgevers  Huurwoningen   \n",
       "15694       Zwolle  2020 3e kwartaal  Totaal opdrachtgevers  Huurwoningen   \n",
       "15695       Zwolle  2020 4e kwartaal  Totaal opdrachtgevers  Huurwoningen   \n",
       "\n",
       "       Hoeveelheid  \n",
       "0              0.0  \n",
       "1              0.0  \n",
       "2              0.0  \n",
       "3              0.0  \n",
       "4              0.0  \n",
       "...            ...  \n",
       "15691        164.0  \n",
       "15692         33.0  \n",
       "15693         92.0  \n",
       "15694         36.0  \n",
       "15695         67.0  \n",
       "\n",
       "[15696 rows x 5 columns]"
      ]
     },
     "execution_count": 35,
     "metadata": {},
     "output_type": "execute_result"
    }
   ],
   "source": [
    "data"
   ]
  },
  {
   "cell_type": "code",
   "execution_count": null,
   "id": "legal-press",
   "metadata": {},
   "outputs": [],
   "source": []
  }
 ],
 "metadata": {
  "kernelspec": {
   "display_name": "Python 3",
   "language": "python",
   "name": "python3"
  },
  "language_info": {
   "codemirror_mode": {
    "name": "ipython",
    "version": 3
   },
   "file_extension": ".py",
   "mimetype": "text/x-python",
   "name": "python",
   "nbconvert_exporter": "python",
   "pygments_lexer": "ipython3",
   "version": "3.8.8"
  }
 },
 "nbformat": 4,
 "nbformat_minor": 5
}
