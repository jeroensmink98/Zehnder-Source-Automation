{
 "cells": [
  {
   "cell_type": "code",
   "execution_count": 60,
   "id": "casual-stylus",
   "metadata": {},
   "outputs": [],
   "source": [
    "#Import Modules\n",
    "import pandas as pd\n",
    "import requests\n",
    "import cbsodata"
   ]
  },
  {
   "cell_type": "code",
   "execution_count": 61,
   "id": "liable-stereo",
   "metadata": {},
   "outputs": [],
   "source": [
    "# Set configuration of Pandas\n"
   ]
  },
  {
   "cell_type": "code",
   "execution_count": 62,
   "id": "round-there",
   "metadata": {},
   "outputs": [],
   "source": [
    "# Better way to filter the data\n",
    "# Create the dataframe but pass filters as argument for the API call\n",
    "# Opdrachtgever: T001209 = Totaal Opdrachtgevers\n",
    "# Eigendom: A028867 = Huurwoning\n",
    "# Eigendom:A028868 = Koopwoning\n",
    "\n",
    "huurwoningen = pd.DataFrame(cbsodata.get_data(\n",
    "    '83671NED' , \n",
    "    filters=\"Perioden gt '2012' and Opdrachtgever eq 'T001209' and Eigendom eq 'A028867'\", \n",
    "    select=['RegioS','Perioden','Opdrachtgever','Eigendom', 'Woningen_2']))"
   ]
  },
  {
   "cell_type": "code",
   "execution_count": 63,
   "id": "pointed-coupon",
   "metadata": {},
   "outputs": [],
   "source": [
    "koopwoningen = pd.DataFrame(cbsodata.get_data(\n",
    "    '83671NED' , \n",
    "    filters=\"Perioden gt '2012' and Opdrachtgever eq 'T001209' and Eigendom eq 'A028868'\", \n",
    "    select=['RegioS','Perioden','Opdrachtgever','Eigendom', 'Woningen_2']))"
   ]
  },
  {
   "cell_type": "code",
   "execution_count": 64,
   "id": "closing-healing",
   "metadata": {},
   "outputs": [],
   "source": [
    "# Rename columns\n",
    "huurwoningen = huurwoningen.rename(columns={\"Woningen_2\": \"Huurwoningen_hoeveelheid\"})\n",
    "koopwoningen = koopwoningen.rename(columns={\"Woningen_2\": \"Koopwoningen_hoeveelheid\"})"
   ]
  },
  {
   "cell_type": "code",
   "execution_count": 65,
   "id": "specified-paintball",
   "metadata": {},
   "outputs": [],
   "source": [
    "# Merge two dataFrames to one\n",
    "df = pd.merge(huurwoningen, koopwoningen,  how='left', left_on=['RegioS','Perioden'], right_on = ['RegioS','Perioden'])"
   ]
  },
  {
   "cell_type": "code",
   "execution_count": 66,
   "id": "ignored-japanese",
   "metadata": {},
   "outputs": [],
   "source": [
    "df = df.groupby('Perioden').sum()"
   ]
  },
  {
   "cell_type": "code",
   "execution_count": 68,
   "id": "wired-collins",
   "metadata": {},
   "outputs": [],
   "source": [
    "df.to_excel(\"output.xlsx\")  "
   ]
  },
  {
   "cell_type": "code",
   "execution_count": null,
   "id": "productive-basketball",
   "metadata": {},
   "outputs": [],
   "source": []
  }
 ],
 "metadata": {
  "kernelspec": {
   "display_name": "Python 3",
   "language": "python",
   "name": "python3"
  },
  "language_info": {
   "codemirror_mode": {
    "name": "ipython",
    "version": 3
   },
   "file_extension": ".py",
   "mimetype": "text/x-python",
   "name": "python",
   "nbconvert_exporter": "python",
   "pygments_lexer": "ipython3",
   "version": "3.8.8"
  }
 },
 "nbformat": 4,
 "nbformat_minor": 5
}
