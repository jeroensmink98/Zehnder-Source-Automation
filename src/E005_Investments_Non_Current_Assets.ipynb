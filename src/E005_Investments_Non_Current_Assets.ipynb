{
 "cells": [
  {
   "cell_type": "code",
   "execution_count": null,
   "id": "small-throw",
   "metadata": {},
   "outputs": [],
   "source": [
    "#Import Modules\n",
    "from logger import setup_custom_logger\n",
    "from file_writer import file_writer\n",
    "import pandas as pd\n",
    "import requests\n",
    "import cbsodata\n",
    "import datetime"
   ]
  },
  {
   "cell_type": "code",
   "execution_count": null,
   "id": "bottom-savings",
   "metadata": {},
   "outputs": [],
   "source": [
    "# Setup Logger\n",
    "try:\n",
    "    logger = setup_custom_logger(\"E005_Investments_Non_Current_Assets\")\n",
    "    logger.info('starting')\n",
    "except:\n",
    "    logger.exception('logger could not be loaded')\n",
    "    raise"
   ]
  },
  {
   "cell_type": "code",
   "execution_count": null,
   "id": "several-deficit",
   "metadata": {},
   "outputs": [],
   "source": [
    "try:\n",
    "    # Get current date information\n",
    "    now = datetime.datetime.now()\n",
    "    \n",
    "    logger.info('datetime loaded')\n",
    "    yearMin = now.year-3\n",
    "    yearMax = now.year\n",
    "    \n",
    "    # Values you can load\n",
    "    # now.year\n",
    "    # now.month\n",
    "    # now.day\n",
    "    # now.hour\n",
    "    # now.minute\n",
    "except:\n",
    "    logger.exception('datetime could not be loaded')\n",
    "    logger.info('set yearmin to a default value')\n",
    "    # Set default values for fallback\n",
    "    yearMin = 2010\n",
    "    yearMax = 2030\n",
    "    raise"
   ]
  },
  {
   "cell_type": "code",
   "execution_count": null,
   "id": "disturbed-dominican",
   "metadata": {},
   "outputs": [],
   "source": [
    "# Dataset 84106NED\n",
    "dataset_id = '84106NED'\n",
    "\n",
    "# Non-Current-Assets = Vaste Activa!\n",
    "\n",
    "# Table definitions\n",
    "\n",
    "# SoortMutaties: A045303 = Prijs_tov_zelfde_periode_vorig_jaar\n",
    "# SoortMutaties: A045299 = Volume_tov_zelfde_periode_vorig_jaar\n",
    "# SoortMutaties: A045300 = Volume_tov_voorgaande_periode\n",
    "# SoortMutaties: A045301 = Waarde_tov_zelfe_periode_vorig_jaar\n",
    "# SoortMutaties: A045302 = Waarde_tov_voorgaande_periode\n",
    "# Totaal_12 = Totaal\n",
    "# BedrijvenEnHuishoudens_13 = Bedrijven_en_huishoudens\n",
    "# Overheid_14 = Overheid\n",
    "\n",
    "# We could skip totaal since we can calculate that on or own (process gegeven)"
   ]
  },
  {
   "cell_type": "code",
   "execution_count": null,
   "id": "champion-collaboration",
   "metadata": {},
   "outputs": [],
   "source": [
    "try:\n",
    "    logger.info(f'Retrieve data from dataset {dataset_id}')\n",
    "    df = pd.DataFrame(cbsodata.get_data(\n",
    "    f'{dataset_id}',\n",
    "    filters=f\"substring(Perioden,0,4) ge '{yearMin}'\",\n",
    "    select=[\"Perioden\", \"SoortMutaties\", \"Totaal_12\", \"BedrijvenEnHuishoudens_13\", \"Overheid_14\"]))\n",
    "except:\n",
    "    logger.exception('error loading data from CBS Statline')\n",
    "    raise"
   ]
  },
  {
   "cell_type": "code",
   "execution_count": null,
   "id": "olive-princess",
   "metadata": {},
   "outputs": [],
   "source": [
    "# Date formatting and quarter format\n",
    "try:\n",
    "    df[\"Perioden\"] = df[\"Perioden\"].str.replace(\" 1e kwartaal\", \"-03-01\")\n",
    "    df[\"Perioden\"] = df[\"Perioden\"].str.replace(\" 2e kwartaal\", \"-06-01\")\n",
    "    df[\"Perioden\"] = df[\"Perioden\"].str.replace(\" 3e kwartaal\", \"-09-01\")\n",
    "    df[\"Perioden\"] = df[\"Perioden\"].str.replace(\" 4e kwartaal\", \"-12-01\")\n",
    "    df['Perioden'] = pd.to_datetime(df[\"Perioden\"]).dt.date\n",
    "except:\n",
    "    logger.exception('Columns could not be changed to monthly numbers or formatted to different date')\n",
    "    raise"
   ]
  },
  {
   "cell_type": "code",
   "execution_count": null,
   "id": "close-million",
   "metadata": {},
   "outputs": [],
   "source": [
    "#removing total field and renaming\n",
    "try:\n",
    "     df = df.rename(columns={\n",
    "        \"BedrijvenEnHuishoudens_13\": \"BedrijvenEnHuishoudens\",\n",
    "        \"Totaal_12\": \"Totaal\",\n",
    "        \"Overheid_14\": \"Overheid\"\n",
    "    })\n",
    "    \n",
    "except:\n",
    "    logger.exeption('Columns could not be renamed/removed')\n",
    "    raise"
   ]
  },
  {
   "cell_type": "code",
   "execution_count": null,
   "id": "wired-tissue",
   "metadata": {},
   "outputs": [],
   "source": [
    "# Export dataFrame to Excel file\n",
    "try:\n",
    "    df.to_csv(\"output/E005_Investments_Non_Current_Assets.csv\")\n",
    "    file_writer(df, \"E005_Investments_Non_Current_Assets\")\n",
    "except:\n",
    "    logger.exception('dataFrame could not be exported to output folder')"
   ]
  }
 ],
 "metadata": {
  "kernelspec": {
   "display_name": "Python 3",
   "language": "python",
   "name": "python3"
  },
  "language_info": {
   "codemirror_mode": {
    "name": "ipython",
    "version": 3
   },
   "file_extension": ".py",
   "mimetype": "text/x-python",
   "name": "python",
   "nbconvert_exporter": "python",
   "pygments_lexer": "ipython3",
   "version": "3.8.8"
  }
 },
 "nbformat": 4,
 "nbformat_minor": 5
}
