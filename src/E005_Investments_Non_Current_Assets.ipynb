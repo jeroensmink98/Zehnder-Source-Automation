{
 "cells": [
  {
   "cell_type": "code",
   "execution_count": null,
   "id": "powered-result",
   "metadata": {},
   "outputs": [],
   "source": [
    "#Import Modules\n",
    "from logger import setup_custom_logger\n",
    "import pandas as pd\n",
    "import requests\n",
    "import cbsodata\n",
    "import datetime"
   ]
  },
  {
   "cell_type": "code",
   "execution_count": null,
   "id": "canadian-weekend",
   "metadata": {},
   "outputs": [],
   "source": [
    "# Setup Logger\n",
    "try:\n",
    "    logger = setup_custom_logger(\"E005_Investments_Non_Current_Assets)\n",
    "    logger.info('starting')\n",
    "except:\n",
    "    logger.exception('logger could not be loaded')\n",
    "    raise"
   ]
  },
  {
   "cell_type": "code",
   "execution_count": null,
   "id": "thick-championship",
   "metadata": {},
   "outputs": [],
   "source": [
    "try:\n",
    "    # Get current date information\n",
    "    now = datetime.datetime.now()\n",
    "    \n",
    "    logger.info('datetime loaded')\n",
    "    yearMin = now.year-3\n",
    "    yearMax = now.year\n",
    "    \n",
    "    # Values you can load\n",
    "    # now.year\n",
    "    # now.month\n",
    "    # now.day\n",
    "    # now.hour\n",
    "    # now.minute\n",
    "except:\n",
    "    logger.exception('datetime could not be loaded')\n",
    "    logger.info('set yearmin to a default value')\n",
    "    # Set default values for fallback\n",
    "    yearMin = 2010\n",
    "    yearMax = 2030\n",
    "    raise"
   ]
  },
  {
   "cell_type": "code",
   "execution_count": null,
   "id": "connected-modeling",
   "metadata": {},
   "outputs": [],
   "source": [
    "# Dataset 84106NED\n",
    "dataset_id = '84106NED'\n",
    "\n",
    "# Non-Current-Assets = Vaste Activa!\n",
    "\n",
    "# Table definitions\n",
    "\n",
    "# SoortMutaties: A045303 = Prijs_tov_zelfde_periode_vorig_jaar\n",
    "# SoortMutaties: A045299 = Volume_tov_zelfde_periode_vorig_jaar\n",
    "# SoortMutaties: A045300 = Volume_tov_voorgaande_periode\n",
    "# SoortMutaties: A045301 = Waarde_tov_zelfe_periode_vorig_jaar\n",
    "# SoortMutaties: A045302 = Waarde_tov_voorgaande_periode\n",
    "# Totaal_12 = Totaal\n",
    "# BedrijvenEnHuishoudens_13 = Bedrijven_en_huishoudens\n",
    "# Overheid_14 = Overheid\n",
    "\n",
    "# We could skip totaal since we can calculate that on or own (process gegeven)\n"
   ]
  }
 ],
 "metadata": {
  "kernelspec": {
   "display_name": "Python 3",
   "language": "python",
   "name": "python3"
  },
  "language_info": {
   "codemirror_mode": {
    "name": "ipython",
    "version": 3
   },
   "file_extension": ".py",
   "mimetype": "text/x-python",
   "name": "python",
   "nbconvert_exporter": "python",
   "pygments_lexer": "ipython3",
   "version": "3.8.8"
  }
 },
 "nbformat": 4,
 "nbformat_minor": 5
}
