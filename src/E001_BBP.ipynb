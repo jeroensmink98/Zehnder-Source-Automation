{
 "cells": [
  {
   "cell_type": "code",
   "execution_count": 1,
   "metadata": {},
   "outputs": [],
   "source": [
    "# Import modules\n",
    "from logger import setup_custom_logger\n",
    "import sys\n",
    "import pandas as pd    \n",
    "import cbsodata\n",
    "import datetime"
   ]
  },
  {
   "cell_type": "code",
   "execution_count": 2,
   "metadata": {},
   "outputs": [
    {
     "name": "stdout",
     "output_type": "stream",
     "text": [
      "2021-03-24 12:34:47 INFO     E001_BBP starting\n"
     ]
    },
    {
     "name": "stderr",
     "output_type": "stream",
     "text": [
      "INFO:E001_BBP:starting\n"
     ]
    }
   ],
   "source": [
    "# Setup of logger\n",
    "try:\n",
    "    logger = setup_custom_logger(\"E001_BBP\")\n",
    "    logger.info('starting')\n",
    "except:\n",
    "    logger.exception('logger could not be loaded')\n",
    "    raise"
   ]
  },
  {
   "cell_type": "code",
   "execution_count": 3,
   "metadata": {},
   "outputs": [
    {
     "name": "stdout",
     "output_type": "stream",
     "text": [
      "2021-03-24 12:34:47 INFO     E001_BBP datetime loaded\n"
     ]
    },
    {
     "name": "stderr",
     "output_type": "stream",
     "text": [
      "INFO:E001_BBP:datetime loaded\n"
     ]
    }
   ],
   "source": [
    "try:\n",
    "    # Get current date information\n",
    "    now = datetime.datetime.now()\n",
    "    \n",
    "    logger.info('datetime loaded')\n",
    "    yearMin = now.year-4\n",
    "    yearMax = now.year\n",
    "    \n",
    "    # Values you can load\n",
    "    # now.year\n",
    "    # now.month\n",
    "    # now.day\n",
    "    # now.hour\n",
    "    # now.minute\n",
    "except:\n",
    "    logger.exception('datetime could not be loaded')\n",
    "    logger.info('set yearmin to a default value')\n",
    "    # Set default values for fallback\n",
    "    yearMin = 2010\n",
    "    yearMax = 2030\n",
    "    raise"
   ]
  },
  {
   "cell_type": "code",
   "execution_count": 4,
   "metadata": {},
   "outputs": [],
   "source": [
    "# Dataset 84106NED\n",
    "dataset_id = '84106NED'\n",
    "\n",
    "# Table definitions\n",
    "\n",
    "# SoortMutaties: A045299 = Volume, t.o.v. zelfde periode vorig jaar\n",
    "# BrutoBinnenlandsProduct_2: waarde BBP"
   ]
  },
  {
   "cell_type": "code",
   "execution_count": 5,
   "metadata": {},
   "outputs": [
    {
     "name": "stdout",
     "output_type": "stream",
     "text": [
      "2021-03-24 12:34:47 INFO     E001_BBP Retrieve data from dataset 84106NED\n"
     ]
    },
    {
     "name": "stderr",
     "output_type": "stream",
     "text": [
      "INFO:E001_BBP:Retrieve data from dataset 84106NED\n"
     ]
    }
   ],
   "source": [
    "try:\n",
    "    logger.info(f'Retrieve data from dataset {dataset_id}')\n",
    "    data = pd.DataFrame(cbsodata.get_data(\n",
    "    f'{dataset_id}',\n",
    "    filters=f\"substring(Perioden,0,4) ge '{yearMin}' and SoortMutaties eq 'A045299'\",\n",
    "    select=[\"Perioden\", \"BrutoBinnenlandsProduct_2\"]))\n",
    "except:\n",
    "    logger.exception('error loading data from CBS Statline')\n",
    "    raise"
   ]
  },
  {
   "cell_type": "code",
   "execution_count": 6,
   "metadata": {},
   "outputs": [],
   "source": [
    "# Remove quaterly and yearly data\n",
    "try:\n",
    "    data = data[data[\"Perioden\"].str.contains(\"kwartaal\")==True]\n",
    "    data = data[data['Perioden'].map(len) > 4 ]\n",
    "except:\n",
    "    logger.exception('Perioden filter could not be applied')\n",
    "    raise"
   ]
  },
  {
   "cell_type": "code",
   "execution_count": 7,
   "metadata": {},
   "outputs": [],
   "source": [
    "# Rename columns\n",
    "try:\n",
    "    data = data.rename(columns={\n",
    "    \"BrutoBinnenlandsProduct_2\": \"Volume_tovv_zelfde_periode_vorig_jaar_in_procenten\",\n",
    "})\n",
    "\n",
    "except:\n",
    "    logger.exeption('Columns could not be renamed')\n",
    "    raise"
   ]
  },
  {
   "cell_type": "code",
   "execution_count": 8,
   "metadata": {},
   "outputs": [],
   "source": [
    "# Date formatting and quarter format\n",
    "try:\n",
    "    data[\"Perioden\"] = data[\"Perioden\"].str.replace(\" 1e kwartaal\", \"-03-01\")\n",
    "    data[\"Perioden\"] = data[\"Perioden\"].str.replace(\" 2e kwartaal\", \"-06-01\")\n",
    "    data[\"Perioden\"] = data[\"Perioden\"].str.replace(\" 3e kwartaal\", \"-09-01\")\n",
    "    data[\"Perioden\"] = data[\"Perioden\"].str.replace(\" 4e kwartaal\", \"-12-01\")\n",
    "    data['Perioden'] = pd.to_datetime(data[\"Perioden\"]).dt.date\n",
    "except:\n",
    "    logger.exception('Columns could not be changed to monthly numbers or formatted to different date')\n",
    "    raise"
   ]
  },
  {
   "cell_type": "code",
   "execution_count": 9,
   "metadata": {},
   "outputs": [],
   "source": [
    "# Export dataFrame to Excel file\n",
    "try:\n",
    "     data.to_csv(\"output/E001_BBP.csv\")  \n",
    "except:\n",
    "    logger.exception('dataFrame could not be exported to output folder')"
   ]
  }
 ],
 "metadata": {
  "kernelspec": {
   "display_name": "Python 3",
   "language": "python",
   "name": "python3"
  },
  "language_info": {
   "codemirror_mode": {
    "name": "ipython",
    "version": 3
   },
   "file_extension": ".py",
   "mimetype": "text/x-python",
   "name": "python",
   "nbconvert_exporter": "python",
   "pygments_lexer": "ipython3",
   "version": "3.8.8"
  }
 },
 "nbformat": 4,
 "nbformat_minor": 4
}
