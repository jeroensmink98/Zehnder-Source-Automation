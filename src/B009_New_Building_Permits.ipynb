{
 "cells": [
  {
   "cell_type": "code",
   "execution_count": null,
   "metadata": {},
   "outputs": [],
   "source": [
    "from logger import setup_custom_logger\n",
    "import sys\n",
    "import pandas as pd    \n",
    "import cbsodata\n",
    "\n",
    "logger = setup_custom_logger(\"B009_New_Building_Permits\")\n",
    "logger.info('starting')\n",
    "try:\n",
    "    df = pd.DataFrame(cbsodata.get_data('83671NED',filters=\"Perioden gt '2012' and Opdrachtgever ne 'T001209' and Eigendom ne'T001258'\",select=['RegioS','Perioden','Opdrachtgever','Eigendom', 'Woningen_2', 'Wooneenheden_3','Recreatiewoningen_4']))\n",
    "except:\n",
    "    logger.exception('API incorrectly loaded')\n",
    "    raise"
   ]
  },
  {
   "cell_type": "code",
   "execution_count": null,
   "metadata": {},
   "outputs": [],
   "source": [
    "try:\n",
    "    df = df.groupby(['Perioden', 'Opdrachtgever', 'Eigendom']).agg({'Woningen_2': ['sum'], 'Wooneenheden_3': sum, 'Recreatiewoningen_4': sum})\n",
    "    df = df.reset_index()\n",
    "except:\n",
    "    logger.exception('Grouping data failed')\n",
    "    raise"
   ]
  },
  {
   "cell_type": "code",
   "execution_count": null,
   "metadata": {},
   "outputs": [],
   "source": [
    "# Date formatting and quarter format\n",
    "try:\n",
    "    df[\"Perioden\"] = df[\"Perioden\"].str.replace(\" 1e kwartaal\", \"-03-01\")\n",
    "    df[\"Perioden\"] = df[\"Perioden\"].str.replace(\" 2e kwartaal\", \"-06-01\")\n",
    "    df[\"Perioden\"] = df[\"Perioden\"].str.replace(\" 3e kwartaal\", \"-09-01\")\n",
    "    df[\"Perioden\"] = df[\"Perioden\"].str.replace(\" 4e kwartaal\", \"-12-01\")\n",
    "    df['Perioden'] = pd.to_datetime(df[\"Perioden\"]).dt.date\n",
    "except:\n",
    "    logger.exception('Columns could not be changed to monthly numbers or formatted to different date')\n",
    "    raise"
   ]
  },
  {
   "cell_type": "code",
   "execution_count": null,
   "metadata": {},
   "outputs": [],
   "source": [
    "try:\n",
    "    df.to_csv(\"output/B009_New_Building_Permits.csv\")\n",
    "except:\n",
    "    logger.exception('Exporting failed')\n",
    "    raise"
   ]
  },
  {
   "cell_type": "code",
   "execution_count": null,
   "metadata": {},
   "outputs": [],
   "source": [
    "logger.info('Ended')"
   ]
  }
 ],
 "metadata": {
  "kernelspec": {
   "display_name": "Python 3",
   "language": "python",
   "name": "python3"
  },
  "language_info": {
   "codemirror_mode": {
    "name": "ipython",
    "version": 3
   },
   "file_extension": ".py",
   "mimetype": "text/x-python",
   "name": "python",
   "nbconvert_exporter": "python",
   "pygments_lexer": "ipython3",
   "version": "3.8.5"
  }
 },
 "nbformat": 4,
 "nbformat_minor": 5
}
