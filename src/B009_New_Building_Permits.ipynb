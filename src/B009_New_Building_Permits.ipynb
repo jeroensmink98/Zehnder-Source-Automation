{
 "cells": [
  {
   "cell_type": "code",
   "execution_count": 1,
   "id": "detected-cancer",
   "metadata": {},
   "outputs": [
    {
     "name": "stdout",
     "output_type": "stream",
     "text": [
      "2021-03-18 09:54:56 INFO     B009_New_Building_Permits starting\n"
     ]
    },
    {
     "name": "stderr",
     "output_type": "stream",
     "text": [
      "INFO:B009_New_Building_Permits:starting\n"
     ]
    }
   ],
   "source": [
    "from logger import setup_custom_logger\n",
    "import sys\n",
    "import pandas as pd    \n",
    "import cbsodata\n",
    "\n",
    "logger = setup_custom_logger(\"B009_New_Building_Permits\")\n",
    "logger.info('starting')\n",
    "try:\n",
    "    df = pd.DataFrame(cbsodata.get_data('83671NED',filters=\"Perioden gt '2012' and Opdrachtgever ne 'T001209' and Eigendom ne'T001258'\",select=['RegioS','Perioden','Opdrachtgever','Eigendom', 'Woningen_2', 'Wooneenheden_3','Recreatiewoningen_4']))\n",
    "except:\n",
    "    logger.exception('API incorrectly loaded')\n",
    "    raise"
   ]
  },
  {
   "cell_type": "code",
   "execution_count": 2,
   "id": "graduate-filter",
   "metadata": {},
   "outputs": [],
   "source": [
    "try:\n",
    "    df = df.groupby(['Perioden', 'Opdrachtgever', 'Eigendom']).agg({'Woningen_2': ['sum'], 'Wooneenheden_3': sum, 'Recreatiewoningen_4': sum})\n",
    "    df = df.reset_index()\n",
    "except:\n",
    "    logger.exception('Grouping data failed')\n",
    "    raise"
   ]
  },
  {
   "cell_type": "code",
   "execution_count": 3,
   "id": "ideal-paris",
   "metadata": {},
   "outputs": [],
   "source": [
    "try:\n",
    "    df.to_excel(\"output/B009_New_Building_Permits.xlsx\")\n",
    "except:\n",
    "    logger.exception('Exporting failed')\n",
    "    raise"
   ]
  },
  {
   "cell_type": "code",
   "execution_count": 4,
   "id": "uniform-owner",
   "metadata": {},
   "outputs": [
    {
     "name": "stdout",
     "output_type": "stream",
     "text": [
      "2021-03-18 09:55:04 INFO     B009_New_Building_Permits Ended\n"
     ]
    },
    {
     "name": "stderr",
     "output_type": "stream",
     "text": [
      "INFO:B009_New_Building_Permits:Ended\n"
     ]
    }
   ],
   "source": [
    "logger.info('Ended')"
   ]
  },
  {
   "cell_type": "code",
   "execution_count": null,
   "id": "outside-texture",
   "metadata": {},
   "outputs": [],
   "source": []
  }
 ],
 "metadata": {
  "kernelspec": {
   "display_name": "Python 3",
   "language": "python",
   "name": "python3"
  },
  "language_info": {
   "codemirror_mode": {
    "name": "ipython",
    "version": 3
   },
   "file_extension": ".py",
   "mimetype": "text/x-python",
   "name": "python",
   "nbconvert_exporter": "python",
   "pygments_lexer": "ipython3",
   "version": "3.8.8"
  }
 },
 "nbformat": 4,
 "nbformat_minor": 5
}
