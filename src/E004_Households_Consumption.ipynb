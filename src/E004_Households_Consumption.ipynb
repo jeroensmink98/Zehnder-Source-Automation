{
 "cells": [
  {
   "cell_type": "code",
   "execution_count": null,
   "metadata": {},
   "outputs": [],
   "source": [
    "# Import modules\n",
    "from logger import setup_custom_logger\n",
    "import sys\n",
    "import pandas as pd    \n",
    "import cbsodata\n",
    "import datetime"
   ]
  },
  {
   "cell_type": "code",
   "execution_count": null,
   "metadata": {},
   "outputs": [],
   "source": [
    "# Setup of logger\n",
    "try:\n",
    "    logger = setup_custom_logger(\"E004_Households_Consumption\")\n",
    "    logger.info('starting')\n",
    "except:\n",
    "    logger.exception('logger could not be loaded')\n",
    "    raise"
   ]
  },
  {
   "cell_type": "code",
   "execution_count": null,
   "metadata": {},
   "outputs": [],
   "source": [
    "try:\n",
    "    # Get current date information\n",
    "    now = datetime.datetime.now()\n",
    "    \n",
    "    logger.info('datetime loaded')\n",
    "    yearMin = now.year-6\n",
    "    currentYear = now.year-1\n",
    "    \n",
    "    # Values you can load\n",
    "    # now.year\n",
    "    # now.month\n",
    "    # now.day\n",
    "    # now.hour\n",
    "    # now.minute\n",
    "except:\n",
    "    logger.exception('datetime could not be loaded')\n",
    "    logger.info('set yearmin to a default value')\n",
    "    # Set default values for fallback\n",
    "    yearMin = 2010\n",
    "    yearMax = 2030\n",
    "    raise"
   ]
  },
  {
   "cell_type": "code",
   "execution_count": null,
   "metadata": {},
   "outputs": [],
   "source": [
    "# Dataset 84106NED\n",
    "dataset_id = '84106NED'\n",
    "\n",
    "# Table definitions\n",
    "# Consumptieve Huishoudens: Huishoudens_10 \n",
    "# SoortMutaties: A045303 = Prijs_tov_zelfde_periode_vorig_jaar\n",
    "# SoortMutaties: A045299 = Volume_tov_zelfde_periode_vorig_jaar\n",
    "# SoortMutaties: A045300 = Volume_tov_voorgaande_periode\n",
    "# SoortMutaties: A045301 = Waarde_tov_zelfe_periode_vorig_jaar\n",
    "# SoortMutaties: A045302 = Waarde_tov_voorgaande_periode\n",
    "\n",
    "\n"
   ]
  },
  {
   "cell_type": "code",
   "execution_count": null,
   "metadata": {},
   "outputs": [],
   "source": [
    "try:\n",
    "    logger.info(f'Retrieve data from dataset {dataset_id}')\n",
    "    df = pd.DataFrame(cbsodata.get_data(\n",
    "    f'{dataset_id}',\n",
    "    filters=f\"substring(Perioden,0,4) ge '{yearMin}' and SoortMutaties eq 'A045303' or SoortMutaties eq 'A045299'\",\n",
    "    select=[\"Perioden\", \"SoortMutaties\",   \"Huishoudens_10\"]))\n",
    "except:\n",
    "    logger.exception('error loading data from CBS Statline')\n",
    "    raise\n",
    "    "
   ]
  },
  {
   "cell_type": "code",
   "execution_count": null,
   "metadata": {},
   "outputs": [],
   "source": [
    "# Remove  yearly data\n",
    "try:\n",
    "    df = df[df['Perioden'].map(len) > 4 ]\n",
    "except:\n",
    "    logger.exception('Perioden filter could not be applied')\n",
    "    raise"
   ]
  },
  {
   "cell_type": "code",
   "execution_count": null,
   "metadata": {},
   "outputs": [],
   "source": [
    "# Date formatting and quarter format\n",
    "try:\n",
    "    df[\"Perioden\"] = df[\"Perioden\"].str.replace(\" 1e kwartaal\", \"-03-01\")\n",
    "    df[\"Perioden\"] = df[\"Perioden\"].str.replace(\" 2e kwartaal\", \"-06-01\")\n",
    "    df[\"Perioden\"] = df[\"Perioden\"].str.replace(\" 3e kwartaal\", \"-09-01\")\n",
    "    df[\"Perioden\"] = df[\"Perioden\"].str.replace(\" 4e kwartaal\", \"-12-01\")\n",
    "    df['Perioden'] = pd.to_datetime(df[\"Perioden\"]).dt.date\n",
    "except:\n",
    "    logger.exception('Columns could not be changed to monthly numbers or formatted to different date')\n",
    "    raise"
   ]
  },
  {
   "cell_type": "code",
   "execution_count": null,
   "metadata": {},
   "outputs": [],
   "source": [
    "try:\n",
    "    df = df.groupby(['Perioden', 'SoortMutaties']).agg({'Huishoudens_10': ['sum']})\n",
    "    df = df.reset_index()\n",
    "except:\n",
    "    logger.exception('Grouping data failed')\n",
    "    raise"
   ]
  },
  {
   "cell_type": "code",
   "execution_count": null,
   "metadata": {},
   "outputs": [],
   "source": [
    "df"
   ]
  },
  {
   "cell_type": "code",
   "execution_count": null,
   "metadata": {},
   "outputs": [],
   "source": [
    "try:\n",
    "    df.to_csv(\"output/E004_Households_Consumption.csv\")\n",
    "except:\n",
    "    logger.exception('Exporting failed')\n",
    "    raise"
   ]
  }
 ],
 "metadata": {
  "kernelspec": {
   "display_name": "Python 3",
   "language": "python",
   "name": "python3"
  },
  "language_info": {
   "codemirror_mode": {
    "name": "ipython",
    "version": 3
   },
   "file_extension": ".py",
   "mimetype": "text/x-python",
   "name": "python",
   "nbconvert_exporter": "python",
   "pygments_lexer": "ipython3",
   "version": "3.8.5"
  }
 },
 "nbformat": 4,
 "nbformat_minor": 5
}
