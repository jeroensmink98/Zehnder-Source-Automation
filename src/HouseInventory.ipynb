{
 "cells": [
  {
   "cell_type": "markdown",
   "metadata": {},
   "source": [
    "<h1><b> Business Understanding<b></h1>\n",
    "    "
   ]
  },
  {
   "cell_type": "markdown",
   "metadata": {},
   "source": [
    "<h1><b>Data understanding"
   ]
  },
  {
   "cell_type": "markdown",
   "metadata": {},
   "source": [
    "Import modules required"
   ]
  },
  {
   "cell_type": "code",
   "execution_count": 1,
   "metadata": {},
   "outputs": [],
   "source": [
    "# First we import the module and add the \"as pd\" after it. This means we can use\n",
    "# the modules functionality by typing pd.<scomething>\n",
    "import pandas as pd\n",
    "import requests"
   ]
  },
  {
   "cell_type": "markdown",
   "metadata": {},
   "source": [
    "Data request to data set (https://opendata.cbs.nl/statline/#/CBS/nl/dataset/82900NED/table?fromstatweb)"
   ]
  },
  {
   "cell_type": "code",
   "execution_count": 2,
   "metadata": {},
   "outputs": [],
   "source": [
    "# Import Modules\n",
    "import pandas as pd\n",
    "import requests\n",
    "import cbsodata\n",
    "pd.set_option('display.max_rows', 500)\n",
    "# Downloaden van tabeloverzicht\n",
    "toc = pd.DataFrame(cbsodata.get_table_list())\n",
    "\n",
    "# Downloading of entire dataset\n",
    "df = pd.DataFrame(cbsodata.get_data('82900NED'))"
   ]
  },
  {
   "cell_type": "code",
   "execution_count": 3,
   "metadata": {},
   "outputs": [],
   "source": [
    "# convert column \"a\" of a DataFrame\n",
    "df[\"Perioden\"] = pd.to_numeric(df[\"Perioden\"])\n",
    "df = df[(df.RegioS == \"Nederland\")]"
   ]
  },
  {
   "cell_type": "code",
   "execution_count": 4,
   "metadata": {},
   "outputs": [],
   "source": [
    "# We parse our dataFrame to an Excel file that we can then load into Qlik Sense\n",
    "df.to_excel(\"output.xlsx\",\n",
    "             sheet_name='Sheet_name_1') "
   ]
  },
  {
   "cell_type": "markdown",
   "metadata": {},
   "source": [
    "<h1><b>Data evaluation"
   ]
  },
  {
   "cell_type": "markdown",
   "metadata": {},
   "source": [
    "<h3><b>Modeling, Evaluation, Deployment in qliksense"
   ]
  }
 ],
 "metadata": {
  "kernelspec": {
   "display_name": "Python 3",
   "language": "python",
   "name": "python3"
  },
  "language_info": {
   "codemirror_mode": {
    "name": "ipython",
    "version": 3
   },
   "file_extension": ".py",
   "mimetype": "text/x-python",
   "name": "python",
   "nbconvert_exporter": "python",
   "pygments_lexer": "ipython3",
   "version": "3.8.5"
  }
 },
 "nbformat": 4,
 "nbformat_minor": 4
}
