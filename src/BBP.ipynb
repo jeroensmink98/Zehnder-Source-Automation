{
 "cells": [
  {
   "cell_type": "markdown",
   "metadata": {},
   "source": [
    "<h1><b> Business Understanding<b></h1>\n",
    "The below Dataset will be used for created market expections, Zehnder wants to know what the market is at the moment so they know what they can expect\n",
    "    "
   ]
  },
  {
   "cell_type": "markdown",
   "metadata": {},
   "source": [
    "<h1><b>Data understanding"
   ]
  },
  {
   "cell_type": "markdown",
   "metadata": {},
   "source": [
    "Import modules required"
   ]
  },
  {
   "cell_type": "code",
   "execution_count": 7,
   "metadata": {},
   "outputs": [],
   "source": [
    "# First we import the module and add the \"as pd\" after it. This means we can use\n",
    "# the modules functionality by typing pd.<scomething>\n",
    "import pandas as pd\n",
    "import requests"
   ]
  },
  {
   "cell_type": "markdown",
   "metadata": {},
   "source": [
    "Data request to data set (https://opendata.cbs.nl/statline#/CBS/nl/dataset/84106NED/table?ts=1614778973356)"
   ]
  },
  {
   "cell_type": "code",
   "execution_count": 8,
   "metadata": {},
   "outputs": [],
   "source": [
    "# Here we do the same thing as above but instead of importing it and giving it a name direclty we do it here\n",
    "\n",
    "# This is the Acutal API call we make to the CBS Statline server. We use the request type GET which means we want to retrieve something from CBS\n",
    "r = requests.get('https://opendata.cbs.nl/ODataApi/odata/84106NED/UntypedDataSet')\n",
    "# The API will give us a response. we make sure that the response is of type JSON (a very nice format for data)\n",
    "x = r.json()\n",
    "\n",
    "\n",
    "# Here we create a new variable where we use the panda's (pd) functionality DatFrame\n",
    "# We tell the DataFrame function that we want to add x, our JSON response from the API to the data frame\n",
    "# We add the key value to it since we only want to add the actual data values to the DataFrame since the API also responses with some bullshit we don't want\n",
    "df = pd.DataFrame(x['value'])"
   ]
  },
  {
   "cell_type": "markdown",
   "metadata": {},
   "source": [
    "Writing line to replace the weird . in the dataset. Filtering by mutations to get last year comparisons, otherwise monthly comparisons show (unwanted?)"
   ]
  },
  {
   "cell_type": "code",
   "execution_count": 9,
   "metadata": {},
   "outputs": [],
   "source": [
    "# We replace every . with a 0 to rule out 0 value's. Since there work a lot of smart people at the CBS they decided to just use a . for a null value\n",
    "df = df.replace(['       .'],'0')\n",
    "# Dunno for sure what this does but it has somethign to do with the specific data we want to use\n",
    "df = df[df.SoortMutaties == 'A045299']"
   ]
  },
  {
   "cell_type": "markdown",
   "metadata": {},
   "source": [
    "<h2>We gaan verder werken met de BbpGecorrigeerdVoorWerkdageneffecten_3 effect vanwege de volgende info:</h2>\n",
    "<p>De eerste manier is door te vergelijken met het overeenkomstige kwartaal een jaar eerder. Er kan dan wel een\n",
    "werkdageffect optreden: het aantal werkdagen in twee overeenkomstige kwartalen kan verschillen als gevolg\n",
    "van bijvoorbeeld feestdagen die in een weekend vallen waardoor er meer werkdagen zijn, meer of minder\n",
    "weekenden in een kwartaal of feestdagen zoals Pasen, die in een ander kwartaal vallen. Paasdagen vallen\n",
    "meestal in het tweede kwartaal. Er zijn echter ook jaren waarin Pasen wordt gevierd in het eerste kwartaal. Als\n",
    "er meer werkdagen zijn, wordt er meer geproduceerd en daardoor is het bruto binnenlands product) bbp\n",
    "hoger. Voor het bbp wordt daarom ook een reeks werkdaggecorrigeerde mutaties ten opzichte van het\n",
    "overeenkomstige kwartaal een jaar eerder gepubliceerd.</p>"
   ]
  },
  {
   "cell_type": "code",
   "execution_count": 10,
   "metadata": {},
   "outputs": [],
   "source": [
    "# Not idea what this does tbh..\n",
    "df = df[[\"ID\", \"Perioden\", \"SoortMutaties\", \"BbpGecorrigeerdVoorWerkdageneffecten_3\"]]\n",
    "df = df.tail(13)\n",
    "df = df[~df.Perioden.str.contains('JJ00')]"
   ]
  },
  {
   "cell_type": "markdown",
   "metadata": {},
   "source": [
    "Temporary excel output for testing purposes"
   ]
  },
  {
   "cell_type": "code",
   "execution_count": 11,
   "metadata": {},
   "outputs": [
    {
     "ename": "ModuleNotFoundError",
     "evalue": "No module named 'openpyxl'",
     "output_type": "error",
     "traceback": [
      "\u001b[0;31m---------------------------------------------------------------------------\u001b[0m",
      "\u001b[0;31mModuleNotFoundError\u001b[0m                       Traceback (most recent call last)",
      "\u001b[0;32m<ipython-input-11-4f5e81cfffc8>\u001b[0m in \u001b[0;36m<module>\u001b[0;34m\u001b[0m\n\u001b[1;32m      1\u001b[0m \u001b[0;31m# We parse our dataFrame to an Excel file that we can then load into Qlik Sense\u001b[0m\u001b[0;34m\u001b[0m\u001b[0;34m\u001b[0m\u001b[0;34m\u001b[0m\u001b[0m\n\u001b[0;32m----> 2\u001b[0;31m df.to_excel(\"output.xlsx\",\n\u001b[0m\u001b[1;32m      3\u001b[0m              sheet_name='Sheet_name_1') \n",
      "\u001b[0;32m/opt/conda/lib/python3.8/site-packages/pandas/core/generic.py\u001b[0m in \u001b[0;36mto_excel\u001b[0;34m(self, excel_writer, sheet_name, na_rep, float_format, columns, header, index, index_label, startrow, startcol, engine, merge_cells, encoding, inf_rep, verbose, freeze_panes, storage_options)\u001b[0m\n\u001b[1;32m   2186\u001b[0m             \u001b[0minf_rep\u001b[0m\u001b[0;34m=\u001b[0m\u001b[0minf_rep\u001b[0m\u001b[0;34m,\u001b[0m\u001b[0;34m\u001b[0m\u001b[0;34m\u001b[0m\u001b[0m\n\u001b[1;32m   2187\u001b[0m         )\n\u001b[0;32m-> 2188\u001b[0;31m         formatter.write(\n\u001b[0m\u001b[1;32m   2189\u001b[0m             \u001b[0mexcel_writer\u001b[0m\u001b[0;34m,\u001b[0m\u001b[0;34m\u001b[0m\u001b[0;34m\u001b[0m\u001b[0m\n\u001b[1;32m   2190\u001b[0m             \u001b[0msheet_name\u001b[0m\u001b[0;34m=\u001b[0m\u001b[0msheet_name\u001b[0m\u001b[0;34m,\u001b[0m\u001b[0;34m\u001b[0m\u001b[0;34m\u001b[0m\u001b[0m\n",
      "\u001b[0;32m/opt/conda/lib/python3.8/site-packages/pandas/io/formats/excel.py\u001b[0m in \u001b[0;36mwrite\u001b[0;34m(self, writer, sheet_name, startrow, startcol, freeze_panes, engine, storage_options)\u001b[0m\n\u001b[1;32m    813\u001b[0m             \u001b[0;31m# abstract class 'ExcelWriter' with abstract attributes 'engine',\u001b[0m\u001b[0;34m\u001b[0m\u001b[0;34m\u001b[0m\u001b[0;34m\u001b[0m\u001b[0m\n\u001b[1;32m    814\u001b[0m             \u001b[0;31m# 'save', 'supported_extensions' and 'write_cells'  [abstract]\u001b[0m\u001b[0;34m\u001b[0m\u001b[0;34m\u001b[0m\u001b[0;34m\u001b[0m\u001b[0m\n\u001b[0;32m--> 815\u001b[0;31m             writer = ExcelWriter(  # type: ignore[abstract]\n\u001b[0m\u001b[1;32m    816\u001b[0m                 \u001b[0mwriter\u001b[0m\u001b[0;34m,\u001b[0m \u001b[0mengine\u001b[0m\u001b[0;34m=\u001b[0m\u001b[0mengine\u001b[0m\u001b[0;34m,\u001b[0m \u001b[0mstorage_options\u001b[0m\u001b[0;34m=\u001b[0m\u001b[0mstorage_options\u001b[0m\u001b[0;34m\u001b[0m\u001b[0;34m\u001b[0m\u001b[0m\n\u001b[1;32m    817\u001b[0m             )\n",
      "\u001b[0;32m/opt/conda/lib/python3.8/site-packages/pandas/io/excel/_openpyxl.py\u001b[0m in \u001b[0;36m__init__\u001b[0;34m(self, path, engine, mode, storage_options, **engine_kwargs)\u001b[0m\n\u001b[1;32m     28\u001b[0m     ):\n\u001b[1;32m     29\u001b[0m         \u001b[0;31m# Use the openpyxl module as the Excel writer.\u001b[0m\u001b[0;34m\u001b[0m\u001b[0;34m\u001b[0m\u001b[0;34m\u001b[0m\u001b[0m\n\u001b[0;32m---> 30\u001b[0;31m         \u001b[0;32mfrom\u001b[0m \u001b[0mopenpyxl\u001b[0m\u001b[0;34m.\u001b[0m\u001b[0mworkbook\u001b[0m \u001b[0;32mimport\u001b[0m \u001b[0mWorkbook\u001b[0m\u001b[0;34m\u001b[0m\u001b[0;34m\u001b[0m\u001b[0m\n\u001b[0m\u001b[1;32m     31\u001b[0m \u001b[0;34m\u001b[0m\u001b[0m\n\u001b[1;32m     32\u001b[0m         super().__init__(\n",
      "\u001b[0;31mModuleNotFoundError\u001b[0m: No module named 'openpyxl'"
     ]
    }
   ],
   "source": [
    "# We parse our dataFrame to an Excel file that we can then load into Qlik Sense\n",
    "df.to_excel(\"output.xlsx\",\n",
    "             sheet_name='Sheet_name_1') "
   ]
  },
  {
   "cell_type": "markdown",
   "metadata": {},
   "source": [
    "<h1><b>Data evaluation"
   ]
  },
  {
   "cell_type": "markdown",
   "metadata": {},
   "source": [
    "<h3><b>Modeling, Evaluation, Deployment in qliksense"
   ]
  },
  {
   "cell_type": "code",
   "execution_count": null,
   "metadata": {},
   "outputs": [],
   "source": []
  }
 ],
 "metadata": {
  "kernelspec": {
   "display_name": "Python 3",
   "language": "python",
   "name": "python3"
  },
  "language_info": {
   "codemirror_mode": {
    "name": "ipython",
    "version": 3
   },
   "file_extension": ".py",
   "mimetype": "text/x-python",
   "name": "python",
   "nbconvert_exporter": "python",
   "pygments_lexer": "ipython3",
   "version": "3.8.6"
  }
 },
 "nbformat": 4,
 "nbformat_minor": 4
}
