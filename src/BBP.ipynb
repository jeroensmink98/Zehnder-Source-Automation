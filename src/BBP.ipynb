{
 "cells": [
  {
   "cell_type": "markdown",
   "metadata": {},
   "source": [
    "<h1><b> Business Understanding<b></h1>\n",
    "The below Dataset will be used for created market expections, Zehnder wants to know what the market is at the moment so they know what they can expect\n",
    "    "
   ]
  },
  {
   "cell_type": "markdown",
   "metadata": {},
   "source": [
    "<h1><b>Data understanding"
   ]
  },
  {
   "cell_type": "markdown",
   "metadata": {},
   "source": [
    "Import modules required"
   ]
  },
  {
   "cell_type": "code",
   "execution_count": 1,
   "metadata": {},
   "outputs": [],
   "source": [
    "import pandas as pd\n",
    "import requests"
   ]
  },
  {
   "cell_type": "markdown",
   "metadata": {},
   "source": [
    "Data request to data set (https://opendata.cbs.nl/statline#/CBS/nl/dataset/84106NED/table?ts=1614778973356)"
   ]
  },
  {
   "cell_type": "code",
   "execution_count": 2,
   "metadata": {},
   "outputs": [],
   "source": [
    "r = requests.get('https://opendata.cbs.nl/ODataApi/odata/84106NED/UntypedDataSet')\n",
    "x = r.json()\n",
    "df = pd.DataFrame(x['value'])"
   ]
  },
  {
   "cell_type": "markdown",
   "metadata": {},
   "source": [
    "Writing line to replace the weird . in the dataset. Filtering by mutations to get last year comparisons, otherwise monthly comparisons show (unwanted?)"
   ]
  },
  {
   "cell_type": "code",
   "execution_count": 3,
   "metadata": {},
   "outputs": [],
   "source": [
    "df = df.replace(['       .'],'0')\n",
    "df = df[df.SoortMutaties == 'A045299']"
   ]
  },
  {
   "cell_type": "markdown",
   "metadata": {},
   "source": [
    "<h2>We gaan verder werken met de BbpGecorrigeerdVoorWerkdageneffecten_3 effect vanwege de volgende info:</h2>\n",
    "<p>De eerste manier is door te vergelijken met het overeenkomstige kwartaal een jaar eerder. Er kan dan wel een\n",
    "werkdageffect optreden: het aantal werkdagen in twee overeenkomstige kwartalen kan verschillen als gevolg\n",
    "van bijvoorbeeld feestdagen die in een weekend vallen waardoor er meer werkdagen zijn, meer of minder\n",
    "weekenden in een kwartaal of feestdagen zoals Pasen, die in een ander kwartaal vallen. Paasdagen vallen\n",
    "meestal in het tweede kwartaal. Er zijn echter ook jaren waarin Pasen wordt gevierd in het eerste kwartaal. Als\n",
    "er meer werkdagen zijn, wordt er meer geproduceerd en daardoor is het bruto binnenlands product) bbp\n",
    "hoger. Voor het bbp wordt daarom ook een reeks werkdaggecorrigeerde mutaties ten opzichte van het\n",
    "overeenkomstige kwartaal een jaar eerder gepubliceerd.</p>"
   ]
  },
  {
   "cell_type": "code",
   "execution_count": 4,
   "metadata": {},
   "outputs": [],
   "source": [
    "df = df[[\"ID\", \"Perioden\", \"SoortMutaties\", \"BbpGecorrigeerdVoorWerkdageneffecten_3\"]]\n",
    "df = df.tail(13)\n",
    "df = df[~df.Perioden.str.contains('JJ00')]"
   ]
  },
  {
   "cell_type": "markdown",
   "metadata": {},
   "source": [
    "Temporary excel output for testing purposes"
   ]
  },
  {
   "cell_type": "code",
   "execution_count": 5,
   "metadata": {},
   "outputs": [],
   "source": [
    "df.to_excel(\"output.xlsx\",\n",
    "             sheet_name='Sheet_name_1') "
   ]
  },
  {
   "cell_type": "markdown",
   "metadata": {},
   "source": [
    "<h1><b>Data evaluation"
   ]
  },
  {
   "cell_type": "markdown",
   "metadata": {},
   "source": [
    "<h3><b>Modeling, Evaluation, Deployment in qliksense"
   ]
  }
 ],
 "metadata": {
  "kernelspec": {
   "display_name": "Python 3",
   "language": "python",
   "name": "python3"
  },
  "language_info": {
   "codemirror_mode": {
    "name": "ipython",
    "version": 3
   },
   "file_extension": ".py",
   "mimetype": "text/x-python",
   "name": "python",
   "nbconvert_exporter": "python",
   "pygments_lexer": "ipython3",
   "version": "3.8.5"
  }
 },
 "nbformat": 4,
 "nbformat_minor": 4
}
