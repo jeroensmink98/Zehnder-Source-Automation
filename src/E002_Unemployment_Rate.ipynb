{
 "cells": [
  {
   "cell_type": "code",
   "execution_count": 1,
   "metadata": {},
   "outputs": [],
   "source": [
    "#Import Modules\n",
    "from logger import setup_custom_logger\n",
    "import pandas as pd\n",
    "import requests\n",
    "import cbsodata\n",
    "import datetime"
   ]
  },
  {
   "cell_type": "code",
   "execution_count": 2,
   "metadata": {},
   "outputs": [
    {
     "name": "stdout",
     "output_type": "stream",
     "text": [
      "2021-03-23 13:50:33 INFO     E002_Unemployment_Rate starting\n"
     ]
    },
    {
     "name": "stderr",
     "output_type": "stream",
     "text": [
      "INFO:E002_Unemployment_Rate:starting\n"
     ]
    }
   ],
   "source": [
    "# Setup Logger\n",
    "try:\n",
    "    logger = setup_custom_logger(\"E002_Unemployment_Rate\")\n",
    "    logger.info('starting')\n",
    "except:\n",
    "    logger.exception('logger could not be loaded')\n",
    "    raise"
   ]
  },
  {
   "cell_type": "code",
   "execution_count": 3,
   "metadata": {},
   "outputs": [
    {
     "name": "stdout",
     "output_type": "stream",
     "text": [
      "2021-03-23 13:50:33 INFO     E002_Unemployment_Rate datetime loaded\n"
     ]
    },
    {
     "name": "stderr",
     "output_type": "stream",
     "text": [
      "INFO:E002_Unemployment_Rate:datetime loaded\n"
     ]
    }
   ],
   "source": [
    "try:\n",
    "    # Get current date information\n",
    "    now = datetime.datetime.now()\n",
    "    \n",
    "    logger.info('datetime loaded')\n",
    "    yearMin = now.year-3\n",
    "    yearMax = now.year\n",
    "    \n",
    "    # Values you can load\n",
    "    # now.year\n",
    "    # now.month\n",
    "    # now.day\n",
    "    # now.hour\n",
    "    # now.minute\n",
    "except:\n",
    "    logger.exception('datetime could not be loaded')\n",
    "    logger.info('set yearmin to a default value')\n",
    "    # Set default values for fallback\n",
    "    yearMin = 2010\n",
    "    yearMax = 2030\n",
    "    raise\n",
    "\n"
   ]
  },
  {
   "cell_type": "code",
   "execution_count": 4,
   "metadata": {},
   "outputs": [],
   "source": [
    "# Dataset 80590ned\n",
    "dataset_id = '80590ned'\n",
    "\n",
    "# Table definitions\n",
    "\n",
    "# Geslacht: T001038 = Totaal (man/vrouw)\n",
    "# Leeftijd: 52052   = 15 tot 75 jaar\n",
    "# Perioden: YYYY%%MM\n",
    "# Seizoengecorrigeerd_2 = x1000_Beroepsbevolking_Seizoengecorrigeerd\n",
    "# Seizoengecorrigeerd_4 = x1000_Werkzame_Beroepsbevolking_Seizoengecorrigeerd\n",
    "# Seizoengecorrigeerd_6 = x1000_Werkloze_Beroepsbevolking_Seizoengecorrigeerd\n",
    "# Seizoengecorrigeerd_8 = Werkloosheidspeercentage_Seizoengecorrigeerd_procenten\n",
    "# Seizoengecorrigeerd_12 = Bruto_Arbeitsparticipatie_Seizoengecorrigeerd_procenten\n",
    "# Seizoengecorrigeerd_14 = Netto_Arbeitsparticipatie_Seizoengecorrigeerd_procenten\n"
   ]
  },
  {
   "cell_type": "code",
   "execution_count": 5,
   "metadata": {},
   "outputs": [
    {
     "name": "stdout",
     "output_type": "stream",
     "text": [
      "2021-03-23 13:50:33 INFO     E002_Unemployment_Rate Retrieve data from dataset 80590ned\n"
     ]
    },
    {
     "name": "stderr",
     "output_type": "stream",
     "text": [
      "INFO:E002_Unemployment_Rate:Retrieve data from dataset 80590ned\n"
     ]
    }
   ],
   "source": [
    "try:\n",
    "    logger.info(f'Retrieve data from dataset {dataset_id}')\n",
    "    data = pd.DataFrame(cbsodata.get_data(\n",
    "    f'{dataset_id}',\n",
    "    filters=f\"Geslacht eq 'T001038' and Leeftijd eq '52052   ' and substring(Perioden,0,4) ge '{yearMin}'\", # These spaces need to be there, they are part of the value..\n",
    "    select=[\"Geslacht\", \"Leeftijd\", \"Perioden\", \"Seizoengecorrigeerd_2\", \"Seizoengecorrigeerd_4\", \"Seizoengecorrigeerd_6\", \"Seizoengecorrigeerd_8\", \"Seizoengecorrigeerd_12\", \"Seizoengecorrigeerd_14\" ]))\n",
    "except:\n",
    "    logger.exception('error loading data from CBS Statline')\n",
    "    raise"
   ]
  },
  {
   "cell_type": "code",
   "execution_count": 6,
   "metadata": {},
   "outputs": [],
   "source": [
    "# Remove quaterly and yearly data\n",
    "try:\n",
    "    data = data[data[\"Perioden\"].str.contains(\"kwartaal\")==False]\n",
    "    data = data[data['Perioden'].map(len) > 4 ]\n",
    "except:\n",
    "    logger.exception('Perioden filter could not be applied')\n",
    "    raise"
   ]
  },
  {
   "cell_type": "code",
   "execution_count": 7,
   "metadata": {},
   "outputs": [],
   "source": [
    "# Rename columns\n",
    "try:\n",
    "    data[\"Seizoengecorrigeerd_2\"] = data[\"Seizoengecorrigeerd_2\"] * 1000\n",
    "    data[\"Seizoengecorrigeerd_4\"] = data[\"Seizoengecorrigeerd_4\"] * 1000\n",
    "    data[\"Seizoengecorrigeerd_6\"] = data[\"Seizoengecorrigeerd_6\"] * 1000\n",
    "except:\n",
    "    logger.exception('Columns could not be * 1000')\n",
    "    raise"
   ]
  },
  {
   "cell_type": "code",
   "execution_count": 8,
   "metadata": {},
   "outputs": [],
   "source": [
    "try:\n",
    "    data = data.rename(columns={\n",
    "    \"Seizoengecorrigeerd_2\": \"Beroepsbevolking_Seizoengecorrigeerd\",\n",
    "    \"Seizoengecorrigeerd_4\" : \"Werkzame_Beroepsbevolking_Seizoengecorrigeerd\",\n",
    "    \"Seizoengecorrigeerd_6\" : \"Werkloze_Beroepsbevolking_Seizoengecorrigeerd\",\n",
    "    \"Seizoengecorrigeerd_8\" : \"Werkloosheidspeercentage_Seizoengecorrigeerd_procenten\",\n",
    "    \"Seizoengecorrigeerd_12\" : \"Bruto_Arbeitsparticipatie_Seizoengecorrigeerd_procenten\", \n",
    "    \"Seizoengecorrigeerd_14\" : \"Netto_Arbeitsparticipatie_Seizoengecorrigeerd_procenten\"\n",
    "})\n",
    "except:\n",
    "    logger.exception('Columns could not be renamed')\n",
    "    raise"
   ]
  },
  {
   "cell_type": "code",
   "execution_count": 9,
   "metadata": {},
   "outputs": [],
   "source": [
    "# Export dataFrame to Excel file\n",
    "try:\n",
    "    data.to_csv(\"output/E002-UnemploymentRate.csv\")  \n",
    "except:\n",
    "    logger.exception('dataFrame could not be exported to output folder')"
   ]
  },
  {
   "cell_type": "code",
   "execution_count": null,
   "metadata": {},
   "outputs": [],
   "source": []
  }
 ],
 "metadata": {
  "kernelspec": {
   "display_name": "Python 3",
   "language": "python",
   "name": "python3"
  },
  "language_info": {
   "codemirror_mode": {
    "name": "ipython",
    "version": 3
   },
   "file_extension": ".py",
   "mimetype": "text/x-python",
   "name": "python",
   "nbconvert_exporter": "python",
   "pygments_lexer": "ipython3",
   "version": "3.8.5"
  }
 },
 "nbformat": 4,
 "nbformat_minor": 5
}
