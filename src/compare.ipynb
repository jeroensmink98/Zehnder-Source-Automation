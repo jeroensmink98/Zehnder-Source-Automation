{
 "cells": [
  {
   "cell_type": "code",
   "execution_count": 1,
   "id": "provincial-cologne",
   "metadata": {},
   "outputs": [],
   "source": [
    "#Import Modules\n",
    "import pandas as pd\n",
    "import requests\n",
    "import cbsodata"
   ]
  },
  {
   "cell_type": "code",
   "execution_count": 8,
   "id": "ambient-province",
   "metadata": {},
   "outputs": [],
   "source": [
    "# Dataset 83671NED \n",
    "data = pd.DataFrame(cbsodata.get_data(\n",
    "    '83671NED' , \n",
    "    filters=\"Perioden eq '2019KW01' and Opdrachtgever eq 'T001209' and Eigendom eq 'T001258'\",  # Eigendom eq T001258 means we want the total numbers\n",
    "    select=['RegioS','Perioden','Opdrachtgever','Eigendom', 'Woningen_2']))"
   ]
  },
  {
   "cell_type": "code",
   "execution_count": 10,
   "id": "according-opposition",
   "metadata": {},
   "outputs": [],
   "source": [
    "data = data.groupby('Perioden').sum()"
   ]
  },
  {
   "cell_type": "code",
   "execution_count": 11,
   "id": "local-swimming",
   "metadata": {},
   "outputs": [
    {
     "data": {
      "text/html": [
       "<div>\n",
       "<style scoped>\n",
       "    .dataframe tbody tr th:only-of-type {\n",
       "        vertical-align: middle;\n",
       "    }\n",
       "\n",
       "    .dataframe tbody tr th {\n",
       "        vertical-align: top;\n",
       "    }\n",
       "\n",
       "    .dataframe thead th {\n",
       "        text-align: right;\n",
       "    }\n",
       "</style>\n",
       "<table border=\"1\" class=\"dataframe\">\n",
       "  <thead>\n",
       "    <tr style=\"text-align: right;\">\n",
       "      <th></th>\n",
       "      <th>Woningen_2</th>\n",
       "    </tr>\n",
       "    <tr>\n",
       "      <th>Perioden</th>\n",
       "      <th></th>\n",
       "    </tr>\n",
       "  </thead>\n",
       "  <tbody>\n",
       "    <tr>\n",
       "      <th>2019 1e kwartaal</th>\n",
       "      <td>12594.0</td>\n",
       "    </tr>\n",
       "  </tbody>\n",
       "</table>\n",
       "</div>"
      ],
      "text/plain": [
       "                  Woningen_2\n",
       "Perioden                    \n",
       "2019 1e kwartaal     12594.0"
      ]
     },
     "execution_count": 11,
     "metadata": {},
     "output_type": "execute_result"
    }
   ],
   "source": [
    "data"
   ]
  },
  {
   "cell_type": "code",
   "execution_count": 12,
   "id": "african-burning",
   "metadata": {},
   "outputs": [],
   "source": [
    "# Dataset 83668NED\n",
    "df = pd.DataFrame(cbsodata.get_data(\n",
    "    '83668NED' , \n",
    "    # Here we retrieve data for specifc months YYYY%%MM\n",
    "    filters=\"(Perioden eq '2019MM01') or (Perioden eq '2019MM02') or (Perioden eq '2019MM03')\", \n",
    "    select=['Perioden', 'Woningen_1', 'Wooneenheden_2', 'Recreatiewoningen_3']))"
   ]
  },
  {
   "cell_type": "code",
   "execution_count": 13,
   "id": "artistic-generator",
   "metadata": {},
   "outputs": [
    {
     "data": {
      "text/html": [
       "<div>\n",
       "<style scoped>\n",
       "    .dataframe tbody tr th:only-of-type {\n",
       "        vertical-align: middle;\n",
       "    }\n",
       "\n",
       "    .dataframe tbody tr th {\n",
       "        vertical-align: top;\n",
       "    }\n",
       "\n",
       "    .dataframe thead th {\n",
       "        text-align: right;\n",
       "    }\n",
       "</style>\n",
       "<table border=\"1\" class=\"dataframe\">\n",
       "  <thead>\n",
       "    <tr style=\"text-align: right;\">\n",
       "      <th></th>\n",
       "      <th>Perioden</th>\n",
       "      <th>Woningen_1</th>\n",
       "      <th>Wooneenheden_2</th>\n",
       "      <th>Recreatiewoningen_3</th>\n",
       "    </tr>\n",
       "  </thead>\n",
       "  <tbody>\n",
       "    <tr>\n",
       "      <th>0</th>\n",
       "      <td>2019 januari</td>\n",
       "      <td>4070</td>\n",
       "      <td>0</td>\n",
       "      <td>16</td>\n",
       "    </tr>\n",
       "    <tr>\n",
       "      <th>1</th>\n",
       "      <td>2019 februari</td>\n",
       "      <td>3941</td>\n",
       "      <td>0</td>\n",
       "      <td>95</td>\n",
       "    </tr>\n",
       "    <tr>\n",
       "      <th>2</th>\n",
       "      <td>2019 maart</td>\n",
       "      <td>5116</td>\n",
       "      <td>0</td>\n",
       "      <td>32</td>\n",
       "    </tr>\n",
       "  </tbody>\n",
       "</table>\n",
       "</div>"
      ],
      "text/plain": [
       "        Perioden  Woningen_1  Wooneenheden_2  Recreatiewoningen_3\n",
       "0   2019 januari        4070               0                   16\n",
       "1  2019 februari        3941               0                   95\n",
       "2     2019 maart        5116               0                   32"
      ]
     },
     "execution_count": 13,
     "metadata": {},
     "output_type": "execute_result"
    }
   ],
   "source": [
    "df"
   ]
  },
  {
   "cell_type": "code",
   "execution_count": 14,
   "id": "constant-grill",
   "metadata": {},
   "outputs": [],
   "source": [
    "total = df['Woningen_1'].sum()\n"
   ]
  },
  {
   "cell_type": "code",
   "execution_count": 15,
   "id": "mediterranean-attendance",
   "metadata": {},
   "outputs": [
    {
     "data": {
      "text/plain": [
       "13127"
      ]
     },
     "execution_count": 15,
     "metadata": {},
     "output_type": "execute_result"
    }
   ],
   "source": [
    "total"
   ]
  },
  {
   "cell_type": "code",
   "execution_count": null,
   "id": "resistant-superintendent",
   "metadata": {},
   "outputs": [],
   "source": []
  }
 ],
 "metadata": {
  "kernelspec": {
   "display_name": "Python 3",
   "language": "python",
   "name": "python3"
  },
  "language_info": {
   "codemirror_mode": {
    "name": "ipython",
    "version": 3
   },
   "file_extension": ".py",
   "mimetype": "text/x-python",
   "name": "python",
   "nbconvert_exporter": "python",
   "pygments_lexer": "ipython3",
   "version": "3.8.8"
  }
 },
 "nbformat": 4,
 "nbformat_minor": 5
}
