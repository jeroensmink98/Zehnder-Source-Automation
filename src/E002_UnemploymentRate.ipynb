{
 "cells": [
  {
   "cell_type": "code",
   "execution_count": 108,
   "id": "viral-monthly",
   "metadata": {},
   "outputs": [],
   "source": [
    "#Import Modules\n",
    "import pandas as pd\n",
    "import requests\n",
    "import cbsodata\n",
    "import datetime"
   ]
  },
  {
   "cell_type": "code",
   "execution_count": 109,
   "id": "hybrid-setup",
   "metadata": {},
   "outputs": [],
   "source": [
    "# Get current date information\n",
    "now = datetime.datetime.now()\n",
    "\n",
    "# now.year\n",
    "# now.month\n",
    "# now.day\n",
    "# now.hour\n",
    "# now.minute"
   ]
  },
  {
   "cell_type": "code",
   "execution_count": 110,
   "id": "recreational-addiction",
   "metadata": {},
   "outputs": [],
   "source": [
    "# We want all data from now untill max 3 years ago\n",
    "\n",
    "yearMin = now.year-3\n",
    "yearMax = now.year"
   ]
  },
  {
   "cell_type": "code",
   "execution_count": 111,
   "id": "recognized-shopping",
   "metadata": {},
   "outputs": [],
   "source": [
    "# Dataset 80590ned\n",
    "\n",
    "# Table definitions\n",
    "\n",
    "# Geslacht: T001038 = Totaal (man/vrouw)\n",
    "# Leeftijd: 52052   = 15 tot 75 jaar\n",
    "# Perioden: YYYY%%MM\n",
    "# Seizoengecorrigeerd_2 = x1000_Beroepsbevolking_Seizoengecorrigeerd\n",
    "# Seizoengecorrigeerd_4 = x1000_Werkzame_Beroepsbevolking_Seizoengecorrigeerd\n",
    "# Seizoengecorrigeerd_6 = x1000_Werkloze_Beroepsbevolking_Seizoengecorrigeerd\n",
    "# Seizoengecorrigeerd_8 = Werkloosheidspeercentage_Seizoengecorrigeerd_procenten\n",
    "# Seizoengecorrigeerd_12 = Bruto_Arbeitsparticipatie_Seizoengecorrigeerd_procenten\n",
    "# Seizoengecorrigeerd_14 = Netto_Arbeitsparticipatie_Seizoengecorrigeerd_procenten\n"
   ]
  },
  {
   "cell_type": "code",
   "execution_count": 112,
   "id": "italic-exemption",
   "metadata": {},
   "outputs": [],
   "source": [
    "data = pd.DataFrame(cbsodata.get_data(\n",
    "    '80590ned',\n",
    "    filters=f\"Geslacht eq 'T001038' and Leeftijd eq '52052   ' and substring(Perioden,0,4) ge '{yearMin}'\", # These spaces need to be there, they are part of the value..\n",
    "    select=[\"Geslacht\", \"Leeftijd\", \"Perioden\", \"Seizoengecorrigeerd_2\", \"Seizoengecorrigeerd_4\", \"Seizoengecorrigeerd_6\", \"Seizoengecorrigeerd_8\", \"Seizoengecorrigeerd_12\", \"Seizoengecorrigeerd_14\" ]))"
   ]
  },
  {
   "cell_type": "code",
   "execution_count": 113,
   "id": "improved-excuse",
   "metadata": {},
   "outputs": [],
   "source": [
    "# Remove quaterly and yearly data\n",
    "data = data[data[\"Perioden\"].str.contains(\"kwartaal\")==False]\n",
    "data = data[data['Perioden'].map(len) > 4 ]"
   ]
  },
  {
   "cell_type": "code",
   "execution_count": 114,
   "id": "conceptual-documentary",
   "metadata": {},
   "outputs": [],
   "source": [
    "# Rename columns\n",
    "data = data.rename(columns={\n",
    "    \"Seizoengecorrigeerd_2\": \"x1000_Beroepsbevolking_Seizoengecorrigeerd\",\n",
    "    \"Seizoengecorrigeerd_4\" : \"x1000_Werkzame_Beroepsbevolking_Seizoengecorrigeerd\",\n",
    "    \"Seizoengecorrigeerd_6\" : \"x1000_Werkloze_Beroepsbevolking_Seizoengecorrigeerd\",\n",
    "    \"Seizoengecorrigeerd_8\" : \"Werkloosheidspeercentage_Seizoengecorrigeerd_procenten\",\n",
    "    \"Seizoengecorrigeerd_12\" : \"Bruto_Arbeitsparticipatie_Seizoengecorrigeerd_procenten\", \n",
    "    \"Seizoengecorrigeerd_14\" : \"Netto_Arbeitsparticipatie_Seizoengecorrigeerd_procenten\"\n",
    "})"
   ]
  },
  {
   "cell_type": "code",
   "execution_count": 115,
   "id": "sixth-payday",
   "metadata": {},
   "outputs": [],
   "source": [
    "# Export dataFrame to Excel file\n",
    "data.to_excel(\"output/E002-UnemploymentRate.xlsx\")  "
   ]
  },
  {
   "cell_type": "code",
   "execution_count": null,
   "id": "apart-shark",
   "metadata": {},
   "outputs": [],
   "source": []
  }
 ],
 "metadata": {
  "kernelspec": {
   "display_name": "Python 3",
   "language": "python",
   "name": "python3"
  },
  "language_info": {
   "codemirror_mode": {
    "name": "ipython",
    "version": 3
   },
   "file_extension": ".py",
   "mimetype": "text/x-python",
   "name": "python",
   "nbconvert_exporter": "python",
   "pygments_lexer": "ipython3",
   "version": "3.8.8"
  }
 },
 "nbformat": 4,
 "nbformat_minor": 5
}
