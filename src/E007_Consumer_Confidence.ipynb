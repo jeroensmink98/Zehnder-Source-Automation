{
 "cells": [
  {
   "cell_type": "code",
   "execution_count": 1,
   "metadata": {},
   "outputs": [],
   "source": [
    "#Import Modules\n",
    "from logger import setup_custom_logger\n",
    "import pandas as pd\n",
    "import requests\n",
    "import cbsodata\n",
    "import datetime"
   ]
  },
  {
   "cell_type": "code",
   "execution_count": 2,
   "metadata": {},
   "outputs": [
    {
     "name": "stdout",
     "output_type": "stream",
     "text": [
      "2021-04-21 11:37:38 INFO     E007_Consumer_Confidence starting\n"
     ]
    },
    {
     "name": "stderr",
     "output_type": "stream",
     "text": [
      "INFO:E007_Consumer_Confidence:starting\n"
     ]
    }
   ],
   "source": [
    "# Setup Logger\n",
    "try:\n",
    "    logger = setup_custom_logger(\"E007_Consumer_Confidence\")\n",
    "    logger.info('starting')\n",
    "except:\n",
    "    logger.exception('logger could not be loaded')\n",
    "    raise"
   ]
  },
  {
   "cell_type": "code",
   "execution_count": 3,
   "metadata": {},
   "outputs": [
    {
     "name": "stdout",
     "output_type": "stream",
     "text": [
      "2021-04-21 11:37:38 INFO     E007_Consumer_Confidence datetime loaded\n"
     ]
    },
    {
     "name": "stderr",
     "output_type": "stream",
     "text": [
      "INFO:E007_Consumer_Confidence:datetime loaded\n"
     ]
    }
   ],
   "source": [
    "try:\n",
    "    # Get current date information\n",
    "    now = datetime.datetime.now()\n",
    "    \n",
    "    logger.info('datetime loaded')\n",
    "    yearMin = now.year-3\n",
    "    yearMax = now.year\n",
    "    \n",
    "    # Values you can load\n",
    "    # now.year\n",
    "    # now.month\n",
    "    # now.day\n",
    "    # now.hour\n",
    "    # now.minute\n",
    "except:\n",
    "    logger.exception('datetime could not be loaded')\n",
    "    logger.info('set yearmin to a default value')\n",
    "    # Set default values for fallback\n",
    "    yearMin = 2010\n",
    "    yearMax = 2030\n",
    "    raise"
   ]
  },
  {
   "cell_type": "code",
   "execution_count": 4,
   "metadata": {},
   "outputs": [],
   "source": [
    "# Dataset 83693ned\n",
    "dataset_id = '83693ned'\n",
    "# Table definitions\n",
    "\n",
    "# Geslacht: T001038 = Totaal (man/vrouw)\n",
    "# Leeftijd: 52052   = 15 tot 75 jaar\n",
    "# Perioden: YYYY%%MM\n",
    "# Seizoengecorrigeerd_2 = x1000_Beroepsbevolking_Seizoengecorrigeerd\n",
    "# Seizoengecorrigeerd_4 = x1000_Werkzame_Beroepsbevolking_Seizoengecorrigeerd\n",
    "# Seizoengecorrigeerd_6 = x1000_Werkloze_Beroepsbevolking_Seizoengecorrigeerd\n",
    "# Seizoengecorrigeerd_8 = Werkloosheidspeercentage_Seizoengecorrigeerd_procenten\n",
    "# Seizoengecorrigeerd_12 = Bruto_Arbeitsparticipatie_Seizoengecorrigeerd_procenten\n",
    "# Seizoengecorrigeerd_14 = Netto_Arbeitsparticipatie_Seizoengecorrigeerd_procenten"
   ]
  },
  {
   "cell_type": "code",
   "execution_count": 5,
   "metadata": {},
   "outputs": [
    {
     "name": "stdout",
     "output_type": "stream",
     "text": [
      "2021-04-21 11:37:38 INFO     E007_Consumer_Confidence Retrieve data from dataset 83693ned\n"
     ]
    },
    {
     "name": "stderr",
     "output_type": "stream",
     "text": [
      "INFO:E007_Consumer_Confidence:Retrieve data from dataset 83693ned\n"
     ]
    }
   ],
   "source": [
    "try:\n",
    "    logger.info(f'Retrieve data from dataset {dataset_id}')\n",
    "    data = pd.DataFrame(cbsodata.get_data(\n",
    "    f'{dataset_id}',\n",
    "    filters=f\"substring(Perioden,0,4) ge '{yearMin}'\")) # These spaces need to be there, they are part of the value..\n",
    "except:\n",
    "    logger.exception('error loading data from CBS Statline')\n",
    "    raise"
   ]
  },
  {
   "cell_type": "code",
   "execution_count": null,
   "metadata": {},
   "outputs": [],
   "source": [
    "# Remove quaterly and yearly data\n",
    "try:\n",
    "    data = data[data[\"Perioden\"].str.contains(\"kwartaal\")==False]\n",
    "    data = data[data['Perioden'].map(len) > 4 ]\n",
    "except:\n",
    "    logger.exception('Perioden filter could not be applied')\n",
    "    raise"
   ]
  },
  {
   "cell_type": "code",
   "execution_count": null,
   "metadata": {},
   "outputs": [],
   "source": [
    "# Date formatting and quarter format\n",
    "try:\n",
    "    data['Perioden'] = data['Perioden'].str.replace(' januari', '-01')\n",
    "    data['Perioden'] = data['Perioden'].str.replace(' februari', '-02')\n",
    "    data['Perioden'] = data['Perioden'].str.replace(' maart', '-03')\n",
    "    data['Perioden'] = data['Perioden'].str.replace(' april', '-04')\n",
    "    data['Perioden'] = data['Perioden'].str.replace(' mei', '-05')\n",
    "    data['Perioden'] = data['Perioden'].str.replace(' juni', '-06')\n",
    "    data['Perioden'] = data['Perioden'].str.replace(' juli', '-07')\n",
    "    data['Perioden'] = data['Perioden'].str.replace(' augustus', '-08')\n",
    "    data['Perioden'] = data['Perioden'].str.replace(' september', '-09')\n",
    "    data['Perioden'] = data['Perioden'].str.replace(' oktober', '-10')\n",
    "    data['Perioden'] = data['Perioden'].str.replace(' november', '-11')\n",
    "    data['Perioden'] = data['Perioden'].str.replace(' december', '-12')\n",
    "    data['Perioden'] = pd.to_datetime(data[\"Perioden\"]).dt.date\n",
    "except:\n",
    "    logger.exception('Columns could not be changed to monthly numbers or formatted to different date')\n",
    "    raise"
   ]
  },
  {
   "cell_type": "code",
   "execution_count": 8,
   "metadata": {},
   "outputs": [],
   "source": [
    "# Export dataFrame to Excel file\n",
    "try:\n",
    "    data.to_csv(\"output/E007_Consumer_Confidence.csv\")  \n",
    "except:\n",
    "    logger.exception('dataFrame could not be exported to output folder')"
   ]
  }
 ],
 "metadata": {
  "kernelspec": {
   "display_name": "Python 3",
   "language": "python",
   "name": "python3"
  },
  "language_info": {
   "codemirror_mode": {
    "name": "ipython",
    "version": 3
   },
   "file_extension": ".py",
   "mimetype": "text/x-python",
   "name": "python",
   "nbconvert_exporter": "python",
   "pygments_lexer": "ipython3",
   "version": "3.8.5"
  }
 },
 "nbformat": 4,
 "nbformat_minor": 5
}
