{
 "cells": [
  {
   "cell_type": "code",
   "execution_count": 1,
   "metadata": {},
   "outputs": [],
   "source": [
    "#Import Modules\n",
    "from logger import setup_custom_logger\n",
    "import pandas as pd\n",
    "import requests\n",
    "import cbsodata\n",
    "import datetime\n",
    "pd.options.mode.chained_assignment = None  # default='warn' #We dont care for chained assignments because we dont go back to original df"
   ]
  },
  {
   "cell_type": "code",
   "execution_count": 2,
   "metadata": {},
   "outputs": [
    {
     "name": "stdout",
     "output_type": "stream",
     "text": [
      "2021-04-06 14:35:49 INFO     S002_Average_Sales_Price_New_Construction starting\n"
     ]
    },
    {
     "name": "stderr",
     "output_type": "stream",
     "text": [
      "INFO:S002_Average_Sales_Price_New_Construction:starting\n"
     ]
    }
   ],
   "source": [
    "# Setup Logger\n",
    "try:\n",
    "    logger = setup_custom_logger(\"S002_Average_Sales_Price_New_Construction\")\n",
    "    logger.info('starting')\n",
    "except:\n",
    "    logger.exception('logger could not be loaded')\n",
    "    raise"
   ]
  },
  {
   "cell_type": "code",
   "execution_count": 3,
   "metadata": {},
   "outputs": [
    {
     "name": "stdout",
     "output_type": "stream",
     "text": [
      "2021-04-06 14:35:49 INFO     S002_Average_Sales_Price_New_Construction datetime loaded\n"
     ]
    },
    {
     "name": "stderr",
     "output_type": "stream",
     "text": [
      "INFO:S002_Average_Sales_Price_New_Construction:datetime loaded\n"
     ]
    }
   ],
   "source": [
    "try:\n",
    "    # Get current date information\n",
    "    now = datetime.datetime.now()\n",
    "    \n",
    "    logger.info('datetime loaded')\n",
    "    yearMin = now.year-3\n",
    "    yearMax = now.year\n",
    "    \n",
    "    # Values you can load\n",
    "    # now.year\n",
    "    # now.month\n",
    "    # now.day\n",
    "    # now.hour\n",
    "    # now.minute\n",
    "except:\n",
    "    logger.exception('datetime could not be loaded')\n",
    "    logger.info('set yearmin to a default value')\n",
    "    # Set default values for fallback\n",
    "    yearMin = 2010\n",
    "    yearMax = 2030\n",
    "    raise"
   ]
  },
  {
   "cell_type": "code",
   "execution_count": 4,
   "metadata": {},
   "outputs": [],
   "source": [
    "# Dataset 84064NED\n",
    "dataset_id = '84064NED'\n",
    "# Table definitions\n",
    "\n",
    "# Perioden: YYYY%%MM\n",
    "# PrijsindexVerkoopprijzen_1 = Huizenprijsindex Prijsindex verkoopprijzen\n",
    "# OntwikkelingTOVVoorgaandePeriode_2 = Ontwikkeling t.o.v. voorgaande periode\n",
    "# OntwikkelingTOVEenJaarEerder_3 = Ontwikkeling t.o.v. een jaar eerder\n",
    "# Aantal_4 = Verkochte woningen Aantal\n",
    "#OntwikkelingTOVVoorgaandePeriode_5 =  Ontwikkeling t.o.v. voorgaande periode (woningen)\n",
    "#OntwikkelingTOVEenJaarEerder_6 = Ontwikkeling t.o.v. een jaar eerder (woningen)\n",
    "#GemiddeldeVerkoopprijs_7 = Gemiddelde verkoopprijs\n",
    "#TotaleWaardeVerkoopprijzen_8 = Totale waarde verkoopprijzen"
   ]
  },
  {
   "cell_type": "code",
   "execution_count": 5,
   "metadata": {},
   "outputs": [
    {
     "name": "stdout",
     "output_type": "stream",
     "text": [
      "2021-04-06 14:35:50 INFO     S002_Average_Sales_Price_New_Construction Retrieve data from dataset 84064NED\n"
     ]
    },
    {
     "name": "stderr",
     "output_type": "stream",
     "text": [
      "INFO:S002_Average_Sales_Price_New_Construction:Retrieve data from dataset 84064NED\n"
     ]
    }
   ],
   "source": [
    "try:\n",
    "    logger.info(f'Retrieve data from dataset {dataset_id}')\n",
    "    df = pd.DataFrame(cbsodata.get_data(\n",
    "    f'{dataset_id}',\n",
    "    filters=f\"substring(Perioden,0,4) ge '{yearMin}'\")) # These spaces need to be there, they are part of the value..\n",
    "except:\n",
    "    logger.exception('error loading data from CBS Statline')\n",
    "    raise"
   ]
  },
  {
   "cell_type": "code",
   "execution_count": 6,
   "metadata": {},
   "outputs": [],
   "source": [
    "# Remove yearly average and totale. Also multiply total value to make true million number\n",
    "try:\n",
    "    df[\"TotaleWaardeVerkoopprijzen_8\"] = df[\"TotaleWaardeVerkoopprijzen_8\"] * 1000000\n",
    "    df = df[df['Perioden'].map(len) > 4 ]\n",
    "    df = df.loc[(df['SoortKoopwoning'] != \"Totaal koopwoningen\")]\n",
    "except:\n",
    "    logger.exception('Perioden filter could not be applied')\n",
    "    raise"
   ]
  },
  {
   "cell_type": "code",
   "execution_count": 7,
   "metadata": {},
   "outputs": [],
   "source": [
    "# Date formatting and quarter format\n",
    "try:\n",
    "    df[\"Perioden\"] = df[\"Perioden\"].str.replace(\" 1e kwartaal\", \"-03-01\")\n",
    "    df[\"Perioden\"] = df[\"Perioden\"].str.replace(\" 2e kwartaal\", \"-06-01\")\n",
    "    df[\"Perioden\"] = df[\"Perioden\"].str.replace(\" 3e kwartaal\", \"-09-01\")\n",
    "    df[\"Perioden\"] = df[\"Perioden\"].str.replace(\" 4e kwartaal\", \"-12-01\")\n",
    "    df['Perioden'] = pd.to_datetime(df[\"Perioden\"]).dt.date\n",
    "except:\n",
    "    logger.exception('Columns could not be changed to monthly numbers or formatted to different date')\n",
    "    raise"
   ]
  },
  {
   "cell_type": "code",
   "execution_count": 8,
   "metadata": {},
   "outputs": [],
   "source": [
    "try:\n",
    "    df = df.groupby(['Perioden','SoortKoopwoning'])[['PrijsindexVerkoopprijzen_1', 'OntwikkelingTOVVoorgaandePeriode_2','OntwikkelingTOVEenJaarEerder_3', 'Aantal_4','OntwikkelingTOVVoorgaandePeriode_5','OntwikkelingTOVEenJaarEerder_6','GemiddeldeVerkoopprijs_7','TotaleWaardeVerkoopprijzen_8']].apply(sum)\n",
    "except:\n",
    "    logger.exception('Grouping data failed')\n",
    "    raise"
   ]
  },
  {
   "cell_type": "code",
   "execution_count": 9,
   "metadata": {},
   "outputs": [],
   "source": [
    "# Export dataFrame to Excel file\n",
    "try:\n",
    "    df.to_csv(\"output/S002_Average_Sales_Price_New_Construction.csv\")  \n",
    "except:\n",
    "    logger.exception('dataFrame could not be exported to output folder')"
   ]
  },
  {
   "cell_type": "code",
   "execution_count": null,
   "metadata": {},
   "outputs": [],
   "source": []
  }
 ],
 "metadata": {
  "kernelspec": {
   "display_name": "Python 3",
   "language": "python",
   "name": "python3"
  },
  "language_info": {
   "codemirror_mode": {
    "name": "ipython",
    "version": 3
   },
   "file_extension": ".py",
   "mimetype": "text/x-python",
   "name": "python",
   "nbconvert_exporter": "python",
   "pygments_lexer": "ipython3",
   "version": "3.8.5"
  }
 },
 "nbformat": 4,
 "nbformat_minor": 5
}
