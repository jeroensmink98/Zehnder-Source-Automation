{
 "cells": [
  {
   "cell_type": "code",
   "execution_count": null,
   "id": "literary-stations",
   "metadata": {},
   "outputs": [],
   "source": [
    "# Import modules\n",
    "from logger import setup_custom_logger\n",
    "import sys\n",
    "import pandas as pd    \n",
    "import cbsodata\n",
    "import datetime"
   ]
  },
  {
   "cell_type": "code",
   "execution_count": null,
   "id": "violent-henry",
   "metadata": {},
   "outputs": [],
   "source": [
    "# Setup of logger\n",
    "try:\n",
    "    logger = setup_custom_logger(\"B003_Permits_New_Houses\")\n",
    "    logger.info('starting')\n",
    "except:\n",
    "    logger.exception('logger could not be loaded')\n",
    "    raise"
   ]
  },
  {
   "cell_type": "code",
   "execution_count": null,
   "id": "complicated-papua",
   "metadata": {},
   "outputs": [],
   "source": [
    "try:\n",
    "    # Get current date information\n",
    "    now = datetime.datetime.now()\n",
    "    \n",
    "    logger.info('datetime loaded')\n",
    "    yearMin = now.year-4\n",
    "    yearMax = now.year\n",
    "    \n",
    "    # Values you can load\n",
    "    # now.year\n",
    "    # now.month\n",
    "    # now.day\n",
    "    # now.hour\n",
    "    # now.minute\n",
    "except:\n",
    "    logger.exception('datetime could not be loaded')\n",
    "    logger.info('set yearmin to a default value')\n",
    "    # Set default values for fallback\n",
    "    yearMin = 2010\n",
    "    yearMax = 2030\n",
    "    raise"
   ]
  },
  {
   "cell_type": "code",
   "execution_count": null,
   "id": "prescription-source",
   "metadata": {},
   "outputs": [],
   "source": [
    "# Dataset 83668NED\n",
    "dataset_id = '83668NED'\n",
    "\n",
    "# Table definitions\n",
    "# Woningen_1 = Bouwvergunningen_woonruimten_Woningen\n",
    "# Wooneenheden_2 = Bouwvergunningen_woonruimten_Wooneenheden\n",
    "# Recreatiewoningen_3 = Bouwvergunningen_woonruimten_Recreatiewoningen\n"
   ]
  },
  {
   "cell_type": "code",
   "execution_count": null,
   "id": "right-sitting",
   "metadata": {},
   "outputs": [],
   "source": [
    "try:\n",
    "    logger.info(f'Retrieve data from dataset {dataset_id}')\n",
    "    data = pd.DataFrame(cbsodata.get_data(\n",
    "    f'{dataset_id}',\n",
    "    filters=f\"substring(Perioden,0,4) ge '{yearMin}'\",\n",
    "    select=[\"Perioden\", \"Woningen_1\", \"Wooneenheden_2\", \"Recreatiewoningen_3\"]))\n",
    "except:\n",
    "    logger.exception('error loading data from CBS Statline')\n",
    "    raise"
   ]
  },
  {
   "cell_type": "code",
   "execution_count": null,
   "id": "noted-dream",
   "metadata": {},
   "outputs": [],
   "source": [
    "# Rename columns\n",
    "try:\n",
    "    data = data.rename(columns={\n",
    "    \"Woningen_1\": \"Bouwvergunningen_woonruimten_Woningen\",\n",
    "    \"Wooneenheden_2\": \"Bouwvergunningen_woonruimten_Wooneenheden\",\n",
    "    \"Recreatiewoningen_3\": \"Bouwvergunningen_woonruimten_Recreatiewoningen\",\n",
    "})\n",
    "\n",
    "except:\n",
    "    logger.exeption('Columns could not be renamed')\n",
    "    raise"
   ]
  },
  {
   "cell_type": "code",
   "execution_count": null,
   "id": "sophisticated-binding",
   "metadata": {},
   "outputs": [],
   "source": [
    "# Export dataFrame to Excel file\n",
    "try:\n",
    "     data.to_csv(\"output/B003_Permits_New_Houses.csv\")  \n",
    "except:\n",
    "    logger.exception('dataFrame could not be exported to output folder')"
   ]
  }
 ],
 "metadata": {
  "kernelspec": {
   "display_name": "Python 3",
   "language": "python",
   "name": "python3"
  },
  "language_info": {
   "codemirror_mode": {
    "name": "ipython",
    "version": 3
   },
   "file_extension": ".py",
   "mimetype": "text/x-python",
   "name": "python",
   "nbconvert_exporter": "python",
   "pygments_lexer": "ipython3",
   "version": "3.8.8"
  }
 },
 "nbformat": 4,
 "nbformat_minor": 5
}
