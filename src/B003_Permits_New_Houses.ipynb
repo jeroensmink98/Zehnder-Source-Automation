{
 "cells": [
  {
   "cell_type": "code",
   "execution_count": null,
   "id": "second-reading",
   "metadata": {},
   "outputs": [],
   "source": [
    "# Import modules\n",
    "from logger import setup_custom_logger\n",
    "from file_writer import file_writer\n",
    "import sys\n",
    "import pandas as pd    \n",
    "import cbsodata\n",
    "import datetime"
   ]
  },
  {
   "cell_type": "code",
   "execution_count": null,
   "id": "personalized-forward",
   "metadata": {},
   "outputs": [],
   "source": [
    "# Setup of logger\n",
    "try:\n",
    "    logger = setup_custom_logger(\"B003_Permits_New_Houses\")\n",
    "    logger.info('starting')\n",
    "except:\n",
    "    logger.exception('logger could not be loaded')\n",
    "    raise"
   ]
  },
  {
   "cell_type": "code",
   "execution_count": null,
   "id": "official-legislature",
   "metadata": {},
   "outputs": [],
   "source": [
    "try:\n",
    "    # Get current date information\n",
    "    now = datetime.datetime.now()\n",
    "    \n",
    "    logger.info('datetime loaded')\n",
    "    yearMin = now.year-4\n",
    "    yearMax = now.year\n",
    "    \n",
    "    # Values you can load\n",
    "    # now.year\n",
    "    # now.month\n",
    "    # now.day\n",
    "    # now.hour\n",
    "    # now.minute\n",
    "except:\n",
    "    logger.exception('datetime could not be loaded')\n",
    "    logger.info('set yearmin to a default value')\n",
    "    # Set default values for fallback\n",
    "    yearMin = 2010\n",
    "    yearMax = 2030\n",
    "    raise"
   ]
  },
  {
   "cell_type": "code",
   "execution_count": null,
   "id": "spoken-place",
   "metadata": {},
   "outputs": [],
   "source": [
    "# Dataset 83668NED\n",
    "dataset_id = '83668NED'\n",
    "\n",
    "# Table definitions\n",
    "# Woningen_1 = Bouwvergunningen_woonruimten_Woningen\n",
    "# Wooneenheden_2 = Bouwvergunningen_woonruimten_Wooneenheden\n",
    "# Recreatiewoningen_3 = Bouwvergunningen_woonruimten_Recreatiewoningen\n"
   ]
  },
  {
   "cell_type": "code",
   "execution_count": null,
   "id": "documentary-witness",
   "metadata": {},
   "outputs": [],
   "source": [
    "try:\n",
    "    logger.info(f'Retrieve data from dataset {dataset_id}')\n",
    "    data = pd.DataFrame(cbsodata.get_data(\n",
    "    f'{dataset_id}',\n",
    "    filters=f\"substring(Perioden,0,4) ge '{yearMin}'\",\n",
    "    select=[\"Perioden\", \"Woningen_1\", \"Wooneenheden_2\", \"Recreatiewoningen_3\"]))\n",
    "except:\n",
    "    logger.exception('error loading data from CBS Statline')\n",
    "    raise"
   ]
  },
  {
   "cell_type": "code",
   "execution_count": null,
   "id": "fabulous-xerox",
   "metadata": {},
   "outputs": [],
   "source": [
    "# Rename columns\n",
    "try:\n",
    "    data = data.rename(columns={\n",
    "    \"Woningen_1\": \"Bouwvergunningen_woonruimten_Woningen\",\n",
    "    \"Wooneenheden_2\": \"Bouwvergunningen_woonruimten_Wooneenheden\",\n",
    "    \"Recreatiewoningen_3\": \"Bouwvergunningen_woonruimten_Recreatiewoningen\",\n",
    "})\n",
    "\n",
    "except:\n",
    "    logger.exeption('Columns could not be renamed')\n",
    "    raise"
   ]
  },
  {
   "cell_type": "code",
   "execution_count": null,
   "id": "injured-tactics",
   "metadata": {},
   "outputs": [],
   "source": [
    "# Date formatting and quarter format\n",
    "try:\n",
    "    data['Perioden'] = data['Perioden'].str.replace(' januari', '-01')\n",
    "    data['Perioden'] = data['Perioden'].str.replace(' februari', '-02')\n",
    "    data['Perioden'] = data['Perioden'].str.replace(' maart', '-03')\n",
    "    data['Perioden'] = data['Perioden'].str.replace(' april', '-04')\n",
    "    data['Perioden'] = data['Perioden'].str.replace(' mei', '-05')\n",
    "    data['Perioden'] = data['Perioden'].str.replace(' juni', '-06')\n",
    "    data['Perioden'] = data['Perioden'].str.replace(' juli', '-07')\n",
    "    data['Perioden'] = data['Perioden'].str.replace(' augustus', '-08')\n",
    "    data['Perioden'] = data['Perioden'].str.replace(' september', '-09')\n",
    "    data['Perioden'] = data['Perioden'].str.replace(' oktober', '-10')\n",
    "    data['Perioden'] = data['Perioden'].str.replace(' november', '-11')\n",
    "    data['Perioden'] = data['Perioden'].str.replace(' december', '-12')\n",
    "    data['Perioden'] = pd.to_datetime(data[\"Perioden\"]).dt.date\n",
    "except:\n",
    "    logger.exception('Columns could not be changed to monthly numbers or formatted to different date')\n",
    "    raise"
   ]
  },
  {
   "cell_type": "code",
   "execution_count": null,
   "id": "painful-airport",
   "metadata": {},
   "outputs": [],
   "source": [
    "# Export dataFrame to Excel file\n",
    "try:\n",
    "     data.to_csv(\"output/B003_Permits_New_Houses.csv\")  \n",
    "     file_writer(data, \"B003_Permits_New_Houses\")\n",
    "except:\n",
    "    logger.exception('dataFrame could not be exported to output folder')"
   ]
  }
 ],
 "metadata": {
  "kernelspec": {
   "display_name": "Python 3",
   "language": "python",
   "name": "python3"
  },
  "language_info": {
   "codemirror_mode": {
    "name": "ipython",
    "version": 3
   },
   "file_extension": ".py",
   "mimetype": "text/x-python",
   "name": "python",
   "nbconvert_exporter": "python",
   "pygments_lexer": "ipython3",
   "version": "3.8.8"
  }
 },
 "nbformat": 4,
 "nbformat_minor": 5
}
